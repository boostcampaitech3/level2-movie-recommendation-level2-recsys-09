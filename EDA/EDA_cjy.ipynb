{
 "cells": [
  {
   "cell_type": "code",
   "execution_count": 1,
   "metadata": {},
   "outputs": [],
   "source": [
    "import pandas as pd\n",
    "import numpy as np\n",
    "import matplotlib.pyplot as plt\n",
    "import seaborn as sns\n",
    "import re\n",
    "import os\n",
    "\n",
    "\n",
    "%matplotlib inline"
   ]
  },
  {
   "cell_type": "markdown",
   "metadata": {},
   "source": [
    "# Data Files Structure\n",
    "\n",
    "```\n",
    "./data\n",
    "├── eval\n",
    "│   └── sample_submission.csv\n",
    "└── train\n",
    "    ├── Ml_item2attributes.json\n",
    "    ├── directors.tsv\n",
    "    ├── genres.tsv\n",
    "    ├── titles.tsv\n",
    "    ├── train_ratings.csv\n",
    "    ├── writers.tsv\n",
    "    └── years.tsv\n",
    "```"
   ]
  },
  {
   "cell_type": "code",
   "execution_count": 2,
   "metadata": {},
   "outputs": [],
   "source": [
    "data_path = './data/train'\n",
    "train_df = pd.read_csv(os.path.join(data_path, 'train_ratings.csv'))"
   ]
  },
  {
   "cell_type": "markdown",
   "metadata": {},
   "source": [
    "## Train Data\n",
    "\n",
    "- 유저 31360 명\n",
    "\n",
    "- 영화 6807 개\n",
    "\n",
    "- Data sparsity ratio:  0.9758536052697853\n",
    "\n",
    "- 굉장히 dense함 -> user들이 본 영화가 대부분 겹친다는 뜻"
   ]
  },
  {
   "cell_type": "code",
   "execution_count": 3,
   "metadata": {},
   "outputs": [
    {
     "name": "stdout",
     "output_type": "stream",
     "text": [
      "<class 'pandas.core.frame.DataFrame'>\n",
      "RangeIndex: 5154471 entries, 0 to 5154470\n",
      "Data columns (total 3 columns):\n",
      " #   Column  Dtype\n",
      "---  ------  -----\n",
      " 0   user    int64\n",
      " 1   item    int64\n",
      " 2   time    int64\n",
      "dtypes: int64(3)\n",
      "memory usage: 118.0 MB\n",
      "None\n",
      "   user  item        time\n",
      "0    11  4643  1230782529\n",
      "1    11   170  1230782534\n",
      "2    11   531  1230782539\n",
      "3    11   616  1230782542\n",
      "4    11  2140  1230782563\n",
      "users 31360\n",
      "items 6807\n",
      "Data sparsity ratio:  0.9758536052697853\n"
     ]
    }
   ],
   "source": [
    "print(train_df.info())\n",
    "print(train_df.head(5))\n",
    "print(\"users\", train_df['user'].nunique())\n",
    "print(\"items\", train_df['item'].nunique())\n",
    "print(\"Data sparsity ratio: \", 1 - len(train_df) / (train_df['user'].nunique() * train_df['item'].nunique()))"
   ]
  },
  {
   "cell_type": "markdown",
   "metadata": {},
   "source": [
    "# Side Information\n",
    "\n",
    "|정보|개수|비고|\n",
    "|:------:|:-----:|:-----:|\n",
    "|year|6799|**1922 ~ 2014 년**|\n",
    "|writer|11306|**2989 명**|\n",
    "|title|6807|**-**|\n",
    "|genre|15933|**18 개**|\n",
    "|director|5905|**1340 명**|"
   ]
  },
  {
   "cell_type": "code",
   "execution_count": 114,
   "metadata": {},
   "outputs": [],
   "source": [
    "year_data = pd.read_csv(os.path.join(data_path, 'years.tsv'), sep='\\t')\n",
    "writer_data = pd.read_csv(os.path.join(data_path, 'writers.tsv'), sep='\\t')\n",
    "title_data = pd.read_csv(os.path.join(data_path, 'titles.tsv'), sep='\\t')\n",
    "genre_data = pd.read_csv(os.path.join(data_path, 'genres.tsv'), sep='\\t')\n",
    "director_data = pd.read_csv(os.path.join(data_path, 'directors.tsv'), sep='\\t')"
   ]
  },
  {
   "cell_type": "markdown",
   "metadata": {},
   "source": [
    "### Year\n",
    "\n",
    "- dtype : int64\n",
    "\n",
    "- len : 5152639\n",
    "\n",
    "- unique : 93\n",
    "\n",
    "- 아래 영화의 year 정보 없음 (8 개)\n",
    "\n",
    "    - 6987,   3310,   7243,   8511,  32898,   7065, 119145,   6988"
   ]
  },
  {
   "cell_type": "code",
   "execution_count": 5,
   "metadata": {},
   "outputs": [
    {
     "name": "stdout",
     "output_type": "stream",
     "text": [
      "Data type:\n",
      "item    int64\n",
      "year    int64\n",
      "dtype: object\n",
      "\n",
      "Length of years:\n",
      "6799\n",
      "\n",
      "Number of unique years:\n",
      "93\n",
      "\n",
      "List of missing info:\n",
      "[  6987   3310   7243   8511  32898   7065 119145   6988]\n"
     ]
    }
   ],
   "source": [
    "print(f'Data type:\\n{year_data.dtypes}\\n')\n",
    "print(f\"Length of years:\\n{len(year_data)}\\n\")\n",
    "print(f\"Number of unique years:\\n{year_data['year'].nunique()}\\n\")\n",
    "print(f\"List of missing info:\\n{train_df.loc[~train_df['item'].isin(year_data['item'])]['item'].unique()}\")"
   ]
  },
  {
   "cell_type": "code",
   "execution_count": 6,
   "metadata": {},
   "outputs": [
    {
     "data": {
      "text/html": [
       "<div>\n",
       "<style scoped>\n",
       "    .dataframe tbody tr th:only-of-type {\n",
       "        vertical-align: middle;\n",
       "    }\n",
       "\n",
       "    .dataframe tbody tr th {\n",
       "        vertical-align: top;\n",
       "    }\n",
       "\n",
       "    .dataframe thead th {\n",
       "        text-align: right;\n",
       "    }\n",
       "</style>\n",
       "<table border=\"1\" class=\"dataframe\">\n",
       "  <thead>\n",
       "    <tr style=\"text-align: right;\">\n",
       "      <th></th>\n",
       "      <th>item</th>\n",
       "      <th>title</th>\n",
       "    </tr>\n",
       "  </thead>\n",
       "  <tbody>\n",
       "    <tr>\n",
       "      <th>984</th>\n",
       "      <td>6987</td>\n",
       "      <td>Cabinet of Dr. Caligari, The (Cabinet des Dr. ...</td>\n",
       "    </tr>\n",
       "    <tr>\n",
       "      <th>1284</th>\n",
       "      <td>3310</td>\n",
       "      <td>Kid, The (1921)</td>\n",
       "    </tr>\n",
       "    <tr>\n",
       "      <th>2359</th>\n",
       "      <td>7065</td>\n",
       "      <td>Birth of a Nation, The (1915)</td>\n",
       "    </tr>\n",
       "    <tr>\n",
       "      <th>2620</th>\n",
       "      <td>7243</td>\n",
       "      <td>Intolerance: Love's Struggle Throughout the Ag...</td>\n",
       "    </tr>\n",
       "    <tr>\n",
       "      <th>2669</th>\n",
       "      <td>8511</td>\n",
       "      <td>Immigrant, The (1917)</td>\n",
       "    </tr>\n",
       "    <tr>\n",
       "      <th>2676</th>\n",
       "      <td>6988</td>\n",
       "      <td>Broken Blossoms or The Yellow Man and the Girl...</td>\n",
       "    </tr>\n",
       "    <tr>\n",
       "      <th>3177</th>\n",
       "      <td>32898</td>\n",
       "      <td>Trip to the Moon, A (Voyage dans la lune, Le) ...</td>\n",
       "    </tr>\n",
       "    <tr>\n",
       "      <th>6043</th>\n",
       "      <td>119145</td>\n",
       "      <td>Kingsman: The Secret Service (2015)</td>\n",
       "    </tr>\n",
       "  </tbody>\n",
       "</table>\n",
       "</div>"
      ],
      "text/plain": [
       "        item                                              title\n",
       "984     6987  Cabinet of Dr. Caligari, The (Cabinet des Dr. ...\n",
       "1284    3310                                    Kid, The (1921)\n",
       "2359    7065                      Birth of a Nation, The (1915)\n",
       "2620    7243  Intolerance: Love's Struggle Throughout the Ag...\n",
       "2669    8511                              Immigrant, The (1917)\n",
       "2676    6988  Broken Blossoms or The Yellow Man and the Girl...\n",
       "3177   32898  Trip to the Moon, A (Voyage dans la lune, Le) ...\n",
       "6043  119145                Kingsman: The Secret Service (2015)"
      ]
     },
     "execution_count": 6,
     "metadata": {},
     "output_type": "execute_result"
    }
   ],
   "source": [
    "year_missing_data = train_df.loc[~train_df['item'].isin(year_data['item'])]['item'].unique()\n",
    "missing_movies = title_data.loc[title_data['item'].isin(year_missing_data)]\n",
    "missing_movies"
   ]
  },
  {
   "cell_type": "code",
   "execution_count": 115,
   "metadata": {},
   "outputs": [],
   "source": [
    "Columns = ['item', 'year']\n",
    "year_insert_df = pd.DataFrame(columns=Columns)\n",
    "for i, (item, string) in enumerate(zip(missing_movies['item'], missing_movies['title'])):\n",
    "    year = int(string[re.search(r\"\\(\\d{4}\\)$\", string).start()+1:-1])\n",
    "    year_insert_df.loc[i] = [item, year]\n",
    "year_data = pd.concat([year_data, year_insert_df], ignore_index=True)"
   ]
  },
  {
   "cell_type": "code",
   "execution_count": 116,
   "metadata": {},
   "outputs": [
    {
     "name": "stdout",
     "output_type": "stream",
     "text": [
      "Data type:\n",
      "item    int64\n",
      "year    int64\n",
      "dtype: object\n",
      "\n",
      "Length of years:\n",
      "6807\n",
      "\n",
      "Number of unique years:\n",
      "101\n",
      "\n",
      "List of missing info:\n",
      "[]\n"
     ]
    }
   ],
   "source": [
    "print(f'Data type:\\n{year_data.dtypes}\\n')\n",
    "print(f\"Length of years:\\n{len(year_data)}\\n\")\n",
    "print(f\"Number of unique years:\\n{year_data['year'].nunique()}\\n\")\n",
    "print(f\"List of missing info:\\n{train_df.loc[~train_df['item'].isin(year_data['item'])]['item'].unique()}\")"
   ]
  },
  {
   "cell_type": "markdown",
   "metadata": {},
   "source": [
    "### Writer\n",
    "\n",
    "- dtype :  object\n",
    "\n",
    "- len : 11306\n",
    "\n",
    "- unique : 2989\n",
    "\n",
    "- 1159 개의 영화에 대한 wirter 정보가 없음.\n",
    "\n",
    "    - dtype: 'object'"
   ]
  },
  {
   "cell_type": "code",
   "execution_count": 9,
   "metadata": {},
   "outputs": [
    {
     "name": "stdout",
     "output_type": "stream",
     "text": [
      "Data type:\n",
      "item       int64\n",
      "writer    object\n",
      "dtype: object\n",
      "\n",
      "Length of writers:\n",
      "11306\n",
      "\n",
      "Number of unique writers:\n",
      "2989\n",
      "\n",
      "Number of missing info:\n",
      "1159\n"
     ]
    }
   ],
   "source": [
    "print(f'Data type:\\n{writer_data.dtypes}\\n')\n",
    "print(f\"Length of writers:\\n{len(writer_data)}\\n\")\n",
    "print(f\"Number of unique writers:\\n{writer_data['writer'].nunique()}\\n\")\n",
    "print(f\"Number of missing info:\\n{len(train_df.loc[~train_df['item'].isin(writer_data['item'])]['item'].unique())}\")"
   ]
  },
  {
   "cell_type": "markdown",
   "metadata": {},
   "source": [
    "### Title\n",
    "\n",
    "- dtype :  object\n",
    "\n",
    "- len : 6807\n",
    "\n",
    "- unique : 6806\n",
    "\n",
    "- War of the Worlds (2005) -> id 34048, 64997 중복으로 되어있음.\n",
    "\n",
    "- 모든 영화에 대한 정보는 있음."
   ]
  },
  {
   "cell_type": "code",
   "execution_count": 10,
   "metadata": {},
   "outputs": [
    {
     "name": "stdout",
     "output_type": "stream",
     "text": [
      "Data type:\n",
      "item      int64\n",
      "title    object\n",
      "dtype: object\n",
      "\n",
      "Length of titles:\n",
      "6807\n",
      "\n",
      "Number of unique titles:\n",
      "6806\n",
      "\n",
      "Number of missing info:\n",
      "0\n"
     ]
    }
   ],
   "source": [
    "print(f'Data type:\\n{title_data.dtypes}\\n')\n",
    "print(f\"Length of titles:\\n{len(title_data)}\\n\")\n",
    "print(f\"Number of unique titles:\\n{title_data['title'].nunique()}\\n\")\n",
    "print(f\"Number of missing info:\\n{len(train_df.loc[~train_df['item'].isin(title_data['item'])]['item'].unique())}\")"
   ]
  },
  {
   "cell_type": "markdown",
   "metadata": {},
   "source": [
    "중복된 영화 이름"
   ]
  },
  {
   "cell_type": "code",
   "execution_count": 11,
   "metadata": {},
   "outputs": [
    {
     "data": {
      "text/html": [
       "<div>\n",
       "<style scoped>\n",
       "    .dataframe tbody tr th:only-of-type {\n",
       "        vertical-align: middle;\n",
       "    }\n",
       "\n",
       "    .dataframe tbody tr th {\n",
       "        vertical-align: top;\n",
       "    }\n",
       "\n",
       "    .dataframe thead th {\n",
       "        text-align: right;\n",
       "    }\n",
       "</style>\n",
       "<table border=\"1\" class=\"dataframe\">\n",
       "  <thead>\n",
       "    <tr style=\"text-align: right;\">\n",
       "      <th></th>\n",
       "      <th>item</th>\n",
       "      <th>title</th>\n",
       "    </tr>\n",
       "  </thead>\n",
       "  <tbody>\n",
       "    <tr>\n",
       "      <th>349</th>\n",
       "      <td>34048</td>\n",
       "      <td>War of the Worlds (2005)</td>\n",
       "    </tr>\n",
       "    <tr>\n",
       "      <th>1926</th>\n",
       "      <td>64997</td>\n",
       "      <td>War of the Worlds (2005)</td>\n",
       "    </tr>\n",
       "  </tbody>\n",
       "</table>\n",
       "</div>"
      ],
      "text/plain": [
       "       item                     title\n",
       "349   34048  War of the Worlds (2005)\n",
       "1926  64997  War of the Worlds (2005)"
      ]
     },
     "execution_count": 11,
     "metadata": {},
     "output_type": "execute_result"
    }
   ],
   "source": [
    "title_data.loc[title_data.duplicated(subset='title', keep=False)]"
   ]
  },
  {
   "cell_type": "markdown",
   "metadata": {},
   "source": [
    "중복된 영화에 점수를 매긴 유저 3200명"
   ]
  },
  {
   "cell_type": "code",
   "execution_count": 12,
   "metadata": {},
   "outputs": [
    {
     "name": "stdout",
     "output_type": "stream",
     "text": [
      "           user   item        time\n",
      "126          11  34048  1230788489\n",
      "349          11  64997  1251170446\n",
      "5630        208  34048  1157583328\n",
      "7675        258  34048  1221520795\n",
      "11320       367  34048  1120865002\n",
      "...         ...    ...         ...\n",
      "5150174  138404  34048  1138010617\n",
      "5150984  138414  34048  1386706180\n",
      "5152924  138456  34048  1183783639\n",
      "5153574  138472  34048  1194041076\n",
      "5154459  138493  34048  1258390758\n",
      "\n",
      "[3200 rows x 3 columns]\n",
      "\n",
      "Number of users voting both: 3087\n"
     ]
    }
   ],
   "source": [
    "title_duplicated_df = train_df.loc[(train_df['item'] == 34048) | (train_df['item'] == 64997)]\n",
    "print(title_duplicated_df)\n",
    "print(f\"\\nNumber of users voting both: {title_duplicated_df['user'].nunique()}\")"
   ]
  },
  {
   "cell_type": "markdown",
   "metadata": {},
   "source": [
    "### Genre\n",
    "\n",
    "- dtype :  object\n",
    "\n",
    "- len : 15933\n",
    "\n",
    "- unique : 18\n",
    "\n",
    "- 모든 영화에 대한 정보 있음.\n",
    "\n",
    "- 한 영화는 여러개의 장르를 가질 수 있음."
   ]
  },
  {
   "cell_type": "code",
   "execution_count": 13,
   "metadata": {},
   "outputs": [
    {
     "name": "stdout",
     "output_type": "stream",
     "text": [
      "Data type:\n",
      "item      int64\n",
      "genre    object\n",
      "dtype: object\n",
      "\n",
      "Length of genres:\n",
      "15933\n",
      "\n",
      "Number of unique genres:\n",
      "18\n",
      "\n",
      "Number of missing info:\n",
      "0\n"
     ]
    }
   ],
   "source": [
    "print(f'Data type:\\n{genre_data.dtypes}\\n')\n",
    "print(f\"Length of genres:\\n{len(genre_data)}\\n\")\n",
    "print(f\"Number of unique genres:\\n{genre_data['genre'].nunique()}\\n\")\n",
    "print(f\"Number of missing info:\\n{len(train_df.loc[~train_df['item'].isin(genre_data['item'])]['item'].unique())}\")"
   ]
  },
  {
   "cell_type": "code",
   "execution_count": 14,
   "metadata": {},
   "outputs": [
    {
     "data": {
      "text/html": [
       "<div>\n",
       "<style scoped>\n",
       "    .dataframe tbody tr th:only-of-type {\n",
       "        vertical-align: middle;\n",
       "    }\n",
       "\n",
       "    .dataframe tbody tr th {\n",
       "        vertical-align: top;\n",
       "    }\n",
       "\n",
       "    .dataframe thead th {\n",
       "        text-align: right;\n",
       "    }\n",
       "</style>\n",
       "<table border=\"1\" class=\"dataframe\">\n",
       "  <thead>\n",
       "    <tr style=\"text-align: right;\">\n",
       "      <th></th>\n",
       "      <th>user</th>\n",
       "      <th>item</th>\n",
       "      <th>time</th>\n",
       "      <th>genre</th>\n",
       "    </tr>\n",
       "  </thead>\n",
       "  <tbody>\n",
       "    <tr>\n",
       "      <th>2742694</th>\n",
       "      <td>41244</td>\n",
       "      <td>593</td>\n",
       "      <td>1196995689</td>\n",
       "      <td>Crime</td>\n",
       "    </tr>\n",
       "    <tr>\n",
       "      <th>2742695</th>\n",
       "      <td>41244</td>\n",
       "      <td>593</td>\n",
       "      <td>1196995689</td>\n",
       "      <td>Horror</td>\n",
       "    </tr>\n",
       "    <tr>\n",
       "      <th>2742696</th>\n",
       "      <td>41244</td>\n",
       "      <td>593</td>\n",
       "      <td>1196995689</td>\n",
       "      <td>Thriller</td>\n",
       "    </tr>\n",
       "  </tbody>\n",
       "</table>\n",
       "</div>"
      ],
      "text/plain": [
       "          user  item        time     genre\n",
       "2742694  41244   593  1196995689     Crime\n",
       "2742695  41244   593  1196995689    Horror\n",
       "2742696  41244   593  1196995689  Thriller"
      ]
     },
     "execution_count": 14,
     "metadata": {},
     "output_type": "execute_result"
    }
   ],
   "source": [
    "genre_df = pd.merge(train_df, genre_data, on=['item'])\n",
    "genre_df.loc[(genre_df['item'] == 593) & (genre_df['user'] == 41244)] # sample"
   ]
  },
  {
   "cell_type": "markdown",
   "metadata": {},
   "source": [
    "### Director\n",
    "\n",
    "- dtype :  object\n",
    "\n",
    "- len : 5905\n",
    "\n",
    "- unique : 1340\n",
    "\n",
    "- 1304 개의 영화에 대해 감독 정보 없음.\n",
    "\n",
    "- 감독은 다작 가능."
   ]
  },
  {
   "cell_type": "code",
   "execution_count": 15,
   "metadata": {},
   "outputs": [
    {
     "name": "stdout",
     "output_type": "stream",
     "text": [
      "Data type:\n",
      "item         int64\n",
      "director    object\n",
      "dtype: object\n",
      "\n",
      "Length of directors:\n",
      "5905\n",
      "\n",
      "Number of unique directors:\n",
      "1340\n",
      "\n",
      "Number of missing info:\n",
      "1304\n"
     ]
    }
   ],
   "source": [
    "print(f'Data type:\\n{director_data.dtypes}\\n')\n",
    "print(f\"Length of directors:\\n{len(director_data)}\\n\")\n",
    "print(f\"Number of unique directors:\\n{director_data['director'].nunique()}\\n\")\n",
    "print(f\"Number of missing info:\\n{len(train_df.loc[~train_df['item'].isin(director_data['item'])]['item'].unique())}\")"
   ]
  },
  {
   "cell_type": "code",
   "execution_count": 16,
   "metadata": {},
   "outputs": [
    {
     "data": {
      "text/html": [
       "<div>\n",
       "<style scoped>\n",
       "    .dataframe tbody tr th:only-of-type {\n",
       "        vertical-align: middle;\n",
       "    }\n",
       "\n",
       "    .dataframe tbody tr th {\n",
       "        vertical-align: top;\n",
       "    }\n",
       "\n",
       "    .dataframe thead th {\n",
       "        text-align: right;\n",
       "    }\n",
       "</style>\n",
       "<table border=\"1\" class=\"dataframe\">\n",
       "  <thead>\n",
       "    <tr style=\"text-align: right;\">\n",
       "      <th></th>\n",
       "      <th>item</th>\n",
       "      <th>director</th>\n",
       "    </tr>\n",
       "  </thead>\n",
       "  <tbody>\n",
       "    <tr>\n",
       "      <th>0</th>\n",
       "      <td>1237</td>\n",
       "      <td>nm0000005</td>\n",
       "    </tr>\n",
       "    <tr>\n",
       "      <th>1</th>\n",
       "      <td>5147</td>\n",
       "      <td>nm0000005</td>\n",
       "    </tr>\n",
       "    <tr>\n",
       "      <th>2</th>\n",
       "      <td>7327</td>\n",
       "      <td>nm0000005</td>\n",
       "    </tr>\n",
       "    <tr>\n",
       "      <th>3</th>\n",
       "      <td>2068</td>\n",
       "      <td>nm0000005</td>\n",
       "    </tr>\n",
       "    <tr>\n",
       "      <th>4</th>\n",
       "      <td>7396</td>\n",
       "      <td>nm0000005</td>\n",
       "    </tr>\n",
       "  </tbody>\n",
       "</table>\n",
       "</div>"
      ],
      "text/plain": [
       "   item   director\n",
       "0  1237  nm0000005\n",
       "1  5147  nm0000005\n",
       "2  7327  nm0000005\n",
       "3  2068  nm0000005\n",
       "4  7396  nm0000005"
      ]
     },
     "execution_count": 16,
     "metadata": {},
     "output_type": "execute_result"
    }
   ],
   "source": [
    "director_data.head(5)"
   ]
  },
  {
   "cell_type": "markdown",
   "metadata": {},
   "source": [
    "# 시각화"
   ]
  },
  {
   "cell_type": "markdown",
   "metadata": {},
   "source": [
    "## 가장 많은 장르"
   ]
  },
  {
   "cell_type": "code",
   "execution_count": 56,
   "metadata": {},
   "outputs": [
    {
     "data": {
      "image/png": "[encoded data removed]",
      "text/plain": [
       "<Figure size 1152x648 with 1 Axes>"
      ]
     },
     "metadata": {
      "needs_background": "light"
     },
     "output_type": "display_data"
    }
   ],
   "source": [
    "genres = genre_data['genre'].value_counts()\n",
    "fig, ax = plt.subplots(1, 1, figsize=(16,9))\n",
    "ax.bar(genres.index, genres,\n",
    "width=0.7,\n",
    "linewidth=2,\n",
    "color='royalblue',\n",
    "zorder=10\n",
    ")\n",
    "\n",
    "for s in ['top', 'right']:\n",
    "    ax.spines[s].set_visible(False)\n",
    "\n",
    "for idx, value in zip(genres.index, genres):\n",
    "    ax.text(idx, value+20, s=value,\n",
    "            ha='center', \n",
    "            fontweight='bold'\n",
    "            )\n",
    "\n",
    "plt.xticks(rotation=60)\n",
    "plt.ylabel('Count')\n",
    "plt.show()"
   ]
  },
  {
   "cell_type": "markdown",
   "metadata": {},
   "source": [
    "## 년도별 개봉된 영화 수"
   ]
  },
  {
   "cell_type": "code",
   "execution_count": 151,
   "metadata": {},
   "outputs": [
    {
     "data": {
      "image/png": "[encoded data removed]",
      "text/plain": [
       "<Figure size 1440x360 with 1 Axes>"
      ]
     },
     "metadata": {
      "needs_background": "light"
     },
     "output_type": "display_data"
    }
   ],
   "source": [
    "years = year_data['year'].value_counts()\n",
    "fig, ax = plt.subplots(1, 1, figsize=(20,5))\n",
    "ax.bar(years.index, years,\n",
    "width=0.7,\n",
    "linewidth=2,\n",
    "color='royalblue',\n",
    "zorder=10\n",
    ")\n",
    "\n",
    "for s in ['top', 'right']:\n",
    "    ax.spines[s].set_visible(False)\n",
    "\n",
    "for idx, value in zip(years.index, years):\n",
    "    ax.text(idx, value+5, s=value,\n",
    "            ha='center', \n",
    "            # fontweight='bold'\n",
    "            )\n",
    "\n",
    "plt.xlabel('Year')\n",
    "plt.ylabel('Count')\n",
    "plt.show()"
   ]
  }
 ],
 "metadata": {
  "interpreter": {
   "hash": "d4d1e4263499bec80672ea0156c357c1ee493ec2b1c70f0acce89fc37c4a6abe"
  },
  "kernelspec": {
   "display_name": "Python 3.8.5 ('base')",
   "language": "python",
   "name": "python3"
  },
  "language_info": {
   "codemirror_mode": {
    "name": "ipython",
    "version": 3
   },
   "file_extension": ".py",
   "mimetype": "text/x-python",
   "name": "python",
   "nbconvert_exporter": "python",
   "pygments_lexer": "ipython3",
   "version": "3.8.5"
  },
  "orig_nbformat": 4
 },
 "nbformat": 4,
 "nbformat_minor": 2
}
