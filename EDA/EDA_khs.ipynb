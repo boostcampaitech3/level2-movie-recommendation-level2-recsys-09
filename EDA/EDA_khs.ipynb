{
 "cells": [
  {
   "cell_type": "code",
   "execution_count": 83,
   "id": "2d7fc9dc-b631-40b8-b62b-5efee2dbe3cf",
   "metadata": {},
   "outputs": [],
   "source": [
    "import pandas as pd\n",
    "import numpy as np\n",
    "from tqdm import tqdm\n",
    "import datetime\n",
    "import matplotlib.pyplot as plt\n",
    "import collections\n",
    "tqdm.pandas()"
   ]
  },
  {
   "cell_type": "code",
   "execution_count": 32,
   "id": "bc76df3a-55b0-4964-9184-55e46b3309be",
   "metadata": {},
   "outputs": [],
   "source": [
    "df = pd.read_csv('ratings.csv').drop('Unnamed: 0',axis=1)"
   ]
  },
  {
   "cell_type": "markdown",
   "id": "c1850d54-1119-4dc8-bbae-c3e6e0412fa5",
   "metadata": {},
   "source": [
    "# War of the Worlds (2005) 영화 두개 있는 것 하나로 합치기"
   ]
  },
  {
   "cell_type": "code",
   "execution_count": 7,
   "id": "0f5c8e70-f02b-44c7-8dba-ae865af64fad",
   "metadata": {},
   "outputs": [
    {
     "data": {
      "text/html": [
       "<div>\n",
       "<style scoped>\n",
       "    .dataframe tbody tr th:only-of-type {\n",
       "        vertical-align: middle;\n",
       "    }\n",
       "\n",
       "    .dataframe tbody tr th {\n",
       "        vertical-align: top;\n",
       "    }\n",
       "\n",
       "    .dataframe thead th {\n",
       "        text-align: right;\n",
       "    }\n",
       "</style>\n",
       "<table border=\"1\" class=\"dataframe\">\n",
       "  <thead>\n",
       "    <tr style=\"text-align: right;\">\n",
       "      <th></th>\n",
       "      <th>user</th>\n",
       "      <th>item</th>\n",
       "      <th>time</th>\n",
       "      <th>title</th>\n",
       "      <th>year</th>\n",
       "      <th>genre</th>\n",
       "      <th>director</th>\n",
       "      <th>writer</th>\n",
       "    </tr>\n",
       "  </thead>\n",
       "  <tbody>\n",
       "    <tr>\n",
       "      <th>340117</th>\n",
       "      <td>11</td>\n",
       "      <td>34048</td>\n",
       "      <td>2009-01-01 05:41:29</td>\n",
       "      <td>War of the Worlds (2005)</td>\n",
       "      <td>2005</td>\n",
       "      <td>['Action', 'Adventure', 'Sci-Fi', 'Thriller']</td>\n",
       "      <td>['nm0000229']</td>\n",
       "      <td>['nm0462895', 'nm0920229', 'nm0295264']</td>\n",
       "    </tr>\n",
       "    <tr>\n",
       "      <th>1272022</th>\n",
       "      <td>11</td>\n",
       "      <td>64997</td>\n",
       "      <td>2009-08-25 03:20:46</td>\n",
       "      <td>War of the Worlds (2005)</td>\n",
       "      <td>2005</td>\n",
       "      <td>['Action', 'Sci-Fi']</td>\n",
       "      <td>NaN</td>\n",
       "      <td>['nm0920229']</td>\n",
       "    </tr>\n",
       "  </tbody>\n",
       "</table>\n",
       "</div>"
      ],
      "text/plain": [
       "         user   item                 time                     title  year  \\\n",
       "340117     11  34048  2009-01-01 05:41:29  War of the Worlds (2005)  2005   \n",
       "1272022    11  64997  2009-08-25 03:20:46  War of the Worlds (2005)  2005   \n",
       "\n",
       "                                                 genre       director  \\\n",
       "340117   ['Action', 'Adventure', 'Sci-Fi', 'Thriller']  ['nm0000229']   \n",
       "1272022                           ['Action', 'Sci-Fi']            NaN   \n",
       "\n",
       "                                          writer  \n",
       "340117   ['nm0462895', 'nm0920229', 'nm0295264']  \n",
       "1272022                            ['nm0920229']  "
      ]
     },
     "execution_count": 7,
     "metadata": {},
     "output_type": "execute_result"
    }
   ],
   "source": [
    "df[df['title']=='War of the Worlds (2005)'].drop_duplicates('item') # 34048 item의 정보가 모든 면에서 64997 item 보다 디테일하다는 것을 알 수 있음 "
   ]
  },
  {
   "cell_type": "code",
   "execution_count": 8,
   "id": "cb8dd452-7d4f-4ebd-b487-a1b39c44e3c3",
   "metadata": {},
   "outputs": [
    {
     "data": {
      "text/plain": [
       "34048    3022\n",
       "64997     178\n",
       "Name: item, dtype: int64"
      ]
     },
     "execution_count": 8,
     "metadata": {},
     "output_type": "execute_result"
    }
   ],
   "source": [
    "df[df['title']=='War of the Worlds (2005)'].item.value_counts() # 영화 수도 34048이 훨씬 많음 -> 34048로 병합하자"
   ]
  },
  {
   "cell_type": "code",
   "execution_count": 33,
   "id": "5994e8bd-5824-4da7-9d95-078ed4c1d45b",
   "metadata": {},
   "outputs": [],
   "source": [
    "ind_64997 = df[df.item==64997].index\n",
    "df.loc[ind_64997,'genre'] = df[df.item==34048]['genre'].iloc[0]\n",
    "df.loc[ind_64997,'director'] = df[df.item==34048]['director'].iloc[0]\n",
    "df.loc[ind_64997,'writer'] = df[df.item==34048]['writer'].iloc[0]\n",
    "df.loc[ind_64997,'item'] = df[df.item==34048]['item'].iloc[0]"
   ]
  },
  {
   "cell_type": "code",
   "execution_count": 37,
   "id": "69756efe-e207-4b8b-9189-af36c33ed76d",
   "metadata": {},
   "outputs": [
    {
     "data": {
      "text/html": [
       "<div>\n",
       "<style scoped>\n",
       "    .dataframe tbody tr th:only-of-type {\n",
       "        vertical-align: middle;\n",
       "    }\n",
       "\n",
       "    .dataframe tbody tr th {\n",
       "        vertical-align: top;\n",
       "    }\n",
       "\n",
       "    .dataframe thead th {\n",
       "        text-align: right;\n",
       "    }\n",
       "</style>\n",
       "<table border=\"1\" class=\"dataframe\">\n",
       "  <thead>\n",
       "    <tr style=\"text-align: right;\">\n",
       "      <th></th>\n",
       "      <th>user</th>\n",
       "      <th>item</th>\n",
       "      <th>time</th>\n",
       "      <th>title</th>\n",
       "      <th>year</th>\n",
       "      <th>genre</th>\n",
       "      <th>director</th>\n",
       "      <th>writer</th>\n",
       "    </tr>\n",
       "  </thead>\n",
       "  <tbody>\n",
       "    <tr>\n",
       "      <th>1272022</th>\n",
       "      <td>11</td>\n",
       "      <td>34048</td>\n",
       "      <td>2009-08-25 03:20:46</td>\n",
       "      <td>War of the Worlds (2005)</td>\n",
       "      <td>2005</td>\n",
       "      <td>['Action', 'Adventure', 'Sci-Fi', 'Thriller']</td>\n",
       "      <td>['nm0000229']</td>\n",
       "      <td>['nm0462895', 'nm0920229', 'nm0295264']</td>\n",
       "    </tr>\n",
       "    <tr>\n",
       "      <th>1272023</th>\n",
       "      <td>572</td>\n",
       "      <td>34048</td>\n",
       "      <td>2011-12-20 02:56:13</td>\n",
       "      <td>War of the Worlds (2005)</td>\n",
       "      <td>2005</td>\n",
       "      <td>['Action', 'Adventure', 'Sci-Fi', 'Thriller']</td>\n",
       "      <td>['nm0000229']</td>\n",
       "      <td>['nm0462895', 'nm0920229', 'nm0295264']</td>\n",
       "    </tr>\n",
       "    <tr>\n",
       "      <th>1272024</th>\n",
       "      <td>2024</td>\n",
       "      <td>34048</td>\n",
       "      <td>2010-07-24 12:41:24</td>\n",
       "      <td>War of the Worlds (2005)</td>\n",
       "      <td>2005</td>\n",
       "      <td>['Action', 'Adventure', 'Sci-Fi', 'Thriller']</td>\n",
       "      <td>['nm0000229']</td>\n",
       "      <td>['nm0462895', 'nm0920229', 'nm0295264']</td>\n",
       "    </tr>\n",
       "    <tr>\n",
       "      <th>1272025</th>\n",
       "      <td>2070</td>\n",
       "      <td>34048</td>\n",
       "      <td>2010-07-07 13:05:20</td>\n",
       "      <td>War of the Worlds (2005)</td>\n",
       "      <td>2005</td>\n",
       "      <td>['Action', 'Adventure', 'Sci-Fi', 'Thriller']</td>\n",
       "      <td>['nm0000229']</td>\n",
       "      <td>['nm0462895', 'nm0920229', 'nm0295264']</td>\n",
       "    </tr>\n",
       "    <tr>\n",
       "      <th>1272026</th>\n",
       "      <td>5063</td>\n",
       "      <td>34048</td>\n",
       "      <td>2009-07-01 21:51:25</td>\n",
       "      <td>War of the Worlds (2005)</td>\n",
       "      <td>2005</td>\n",
       "      <td>['Action', 'Adventure', 'Sci-Fi', 'Thriller']</td>\n",
       "      <td>['nm0000229']</td>\n",
       "      <td>['nm0462895', 'nm0920229', 'nm0295264']</td>\n",
       "    </tr>\n",
       "  </tbody>\n",
       "</table>\n",
       "</div>"
      ],
      "text/plain": [
       "         user   item                 time                     title  year  \\\n",
       "1272022    11  34048  2009-08-25 03:20:46  War of the Worlds (2005)  2005   \n",
       "1272023   572  34048  2011-12-20 02:56:13  War of the Worlds (2005)  2005   \n",
       "1272024  2024  34048  2010-07-24 12:41:24  War of the Worlds (2005)  2005   \n",
       "1272025  2070  34048  2010-07-07 13:05:20  War of the Worlds (2005)  2005   \n",
       "1272026  5063  34048  2009-07-01 21:51:25  War of the Worlds (2005)  2005   \n",
       "\n",
       "                                                 genre       director  \\\n",
       "1272022  ['Action', 'Adventure', 'Sci-Fi', 'Thriller']  ['nm0000229']   \n",
       "1272023  ['Action', 'Adventure', 'Sci-Fi', 'Thriller']  ['nm0000229']   \n",
       "1272024  ['Action', 'Adventure', 'Sci-Fi', 'Thriller']  ['nm0000229']   \n",
       "1272025  ['Action', 'Adventure', 'Sci-Fi', 'Thriller']  ['nm0000229']   \n",
       "1272026  ['Action', 'Adventure', 'Sci-Fi', 'Thriller']  ['nm0000229']   \n",
       "\n",
       "                                          writer  \n",
       "1272022  ['nm0462895', 'nm0920229', 'nm0295264']  \n",
       "1272023  ['nm0462895', 'nm0920229', 'nm0295264']  \n",
       "1272024  ['nm0462895', 'nm0920229', 'nm0295264']  \n",
       "1272025  ['nm0462895', 'nm0920229', 'nm0295264']  \n",
       "1272026  ['nm0462895', 'nm0920229', 'nm0295264']  "
      ]
     },
     "execution_count": 37,
     "metadata": {},
     "output_type": "execute_result"
    }
   ],
   "source": [
    "df.loc[ind_64997].head() # 기존 64997이었던 것들 다 34048처럼 바뀜"
   ]
  },
  {
   "cell_type": "code",
   "execution_count": 60,
   "id": "0507ff14-8729-491f-9c53-886f4e913cf7",
   "metadata": {},
   "outputs": [],
   "source": [
    "# 바꿔준 버전으로 다시 저장\n",
    "df.to_csv('ratings2.csv')"
   ]
  },
  {
   "cell_type": "markdown",
   "id": "e89bab66-3b9e-4ac9-bc21-488b3a2e8429",
   "metadata": {},
   "source": [
    "# genre 세부 분석"
   ]
  },
  {
   "cell_type": "code",
   "execution_count": 47,
   "id": "8520babe-649c-4b58-b5e1-a90585640c2e",
   "metadata": {},
   "outputs": [],
   "source": [
    "genre = pd.read_csv(\"genres.tsv\", delimiter='\\t')"
   ]
  },
  {
   "cell_type": "code",
   "execution_count": 48,
   "id": "a3e51b90-8c52-4cd6-8cc2-36c31ec1eb9e",
   "metadata": {},
   "outputs": [
    {
     "data": {
      "text/plain": [
       "Drama          3490\n",
       "Comedy         2408\n",
       "Thriller       1466\n",
       "Romance        1251\n",
       "Action         1246\n",
       "Crime           924\n",
       "Adventure       891\n",
       "Sci-Fi          653\n",
       "Horror          602\n",
       "Fantasy         557\n",
       "Mystery         471\n",
       "Children        432\n",
       "Animation       355\n",
       "War             346\n",
       "Documentary     323\n",
       "Musical         282\n",
       "Western         139\n",
       "Film-Noir        97\n",
       "Name: genre, dtype: int64"
      ]
     },
     "execution_count": 48,
     "metadata": {},
     "output_type": "execute_result"
    }
   ],
   "source": [
    "genre.genre.value_counts()"
   ]
  },
  {
   "cell_type": "code",
   "execution_count": 55,
   "id": "9b283013-303f-4757-985c-b412df97e2da",
   "metadata": {},
   "outputs": [
    {
     "data": {
      "text/plain": [
       "0.26"
      ]
     },
     "execution_count": 55,
     "metadata": {},
     "output_type": "execute_result"
    }
   ],
   "source": [
    "# drama 대비 Advanture 수 비율\n",
    "round(len(genre[genre['genre']=='Adventure']) / len(genre[genre['genre']=='Drama']) ,2)"
   ]
  },
  {
   "cell_type": "code",
   "execution_count": 56,
   "id": "0b864ef3-05a2-4507-b612-6f9469629d34",
   "metadata": {},
   "outputs": [
    {
     "data": {
      "text/plain": [
       "0.44070976050267724"
      ]
     },
     "execution_count": 56,
     "metadata": {},
     "output_type": "execute_result"
    }
   ],
   "source": [
    "# 전체 Action 영화 중 Adventure도 포함하는 영화 수 비율\n",
    "len(df[df.genre.str.contains('Adventure')&df.genre.str.contains('Action')]) / len(df[df.genre.str.contains('Action')])"
   ]
  },
  {
   "cell_type": "code",
   "execution_count": 57,
   "id": "2d9aabea-0c30-4120-b823-7279359b1f3f",
   "metadata": {},
   "outputs": [
    {
     "data": {
      "text/plain": [
       "0.2943626893977149"
      ]
     },
     "execution_count": 57,
     "metadata": {},
     "output_type": "execute_result"
    }
   ],
   "source": [
    "# 전체 Action 영화 중 Drama도 포함하는 영화 수 비율\n",
    "len(df[df.genre.str.contains('Drama')&df.genre.str.contains('Action')]) / len(df[df.genre.str.contains('Action')])"
   ]
  },
  {
   "cell_type": "markdown",
   "id": "da2da05c-c2f5-453f-a265-4cd582169bda",
   "metadata": {},
   "source": [
    "### drama가 adventure보다 4배 정도 많음에도, Action 영화 장르인 것중에는 Drama 보다 Adventure가 1.5배 가량 많음\n",
    "### 즉, genre를 원핫인코딩 하는 것보다는, embedding 시켜주는 것이 더 좋을 것이라 예상"
   ]
  },
  {
   "cell_type": "code",
   "execution_count": 65,
   "id": "2cb718e6-6c00-4342-9349-e14051c53462",
   "metadata": {},
   "outputs": [
    {
     "data": {
      "text/html": [
       "<div>\n",
       "<style scoped>\n",
       "    .dataframe tbody tr th:only-of-type {\n",
       "        vertical-align: middle;\n",
       "    }\n",
       "\n",
       "    .dataframe tbody tr th {\n",
       "        vertical-align: top;\n",
       "    }\n",
       "\n",
       "    .dataframe thead th {\n",
       "        text-align: right;\n",
       "    }\n",
       "</style>\n",
       "<table border=\"1\" class=\"dataframe\">\n",
       "  <thead>\n",
       "    <tr style=\"text-align: right;\">\n",
       "      <th></th>\n",
       "      <th>user</th>\n",
       "      <th>item</th>\n",
       "      <th>time</th>\n",
       "      <th>title</th>\n",
       "      <th>year</th>\n",
       "      <th>genre</th>\n",
       "      <th>director</th>\n",
       "      <th>writer</th>\n",
       "    </tr>\n",
       "  </thead>\n",
       "  <tbody>\n",
       "    <tr>\n",
       "      <th>3827347</th>\n",
       "      <td>135</td>\n",
       "      <td>941</td>\n",
       "      <td>2006-08-04 10:26:18</td>\n",
       "      <td>Mark of Zorro, The (1940)</td>\n",
       "      <td>1940</td>\n",
       "      <td>['Adventure']</td>\n",
       "      <td>['nm0541149']</td>\n",
       "      <td>['nm0191547', 'nm0287124', 'nm0285218', 'nm058...</td>\n",
       "    </tr>\n",
       "    <tr>\n",
       "      <th>4925226</th>\n",
       "      <td>775</td>\n",
       "      <td>5361</td>\n",
       "      <td>2005-04-18 06:42:16</td>\n",
       "      <td>White Fang (1991)</td>\n",
       "      <td>1991</td>\n",
       "      <td>['Adventure']</td>\n",
       "      <td>['nm0459170']</td>\n",
       "      <td>['nm0742236']</td>\n",
       "    </tr>\n",
       "    <tr>\n",
       "      <th>5048611</th>\n",
       "      <td>1588</td>\n",
       "      <td>5357</td>\n",
       "      <td>2010-07-30 18:12:35</td>\n",
       "      <td>Iron Will (1994)</td>\n",
       "      <td>1994</td>\n",
       "      <td>['Adventure']</td>\n",
       "      <td>NaN</td>\n",
       "      <td>['nm0371088', 'nm0587429', 'nm0033578']</td>\n",
       "    </tr>\n",
       "    <tr>\n",
       "      <th>5146127</th>\n",
       "      <td>5337</td>\n",
       "      <td>53919</td>\n",
       "      <td>2011-04-06 08:44:47</td>\n",
       "      <td>Man in the Iron Mask, The (1939)</td>\n",
       "      <td>1939</td>\n",
       "      <td>['Adventure']</td>\n",
       "      <td>['nm0001843']</td>\n",
       "      <td>['nm0241416']</td>\n",
       "    </tr>\n",
       "  </tbody>\n",
       "</table>\n",
       "</div>"
      ],
      "text/plain": [
       "         user   item                 time                             title  \\\n",
       "3827347   135    941  2006-08-04 10:26:18         Mark of Zorro, The (1940)   \n",
       "4925226   775   5361  2005-04-18 06:42:16                 White Fang (1991)   \n",
       "5048611  1588   5357  2010-07-30 18:12:35                  Iron Will (1994)   \n",
       "5146127  5337  53919  2011-04-06 08:44:47  Man in the Iron Mask, The (1939)   \n",
       "\n",
       "         year          genre       director  \\\n",
       "3827347  1940  ['Adventure']  ['nm0541149']   \n",
       "4925226  1991  ['Adventure']  ['nm0459170']   \n",
       "5048611  1994  ['Adventure']            NaN   \n",
       "5146127  1939  ['Adventure']  ['nm0001843']   \n",
       "\n",
       "                                                    writer  \n",
       "3827347  ['nm0191547', 'nm0287124', 'nm0285218', 'nm058...  \n",
       "4925226                                      ['nm0742236']  \n",
       "5048611            ['nm0371088', 'nm0587429', 'nm0033578']  \n",
       "5146127                                      ['nm0241416']  "
      ]
     },
     "execution_count": 65,
     "metadata": {},
     "output_type": "execute_result"
    }
   ],
   "source": [
    "df[df.genre==\"['Adventure']\"].drop_duplicates('item') # 이렇게 Adventure만 있는 영화들을 본 사람들은 Drama보다는 Action 영화 볼 확률이 더 높을 것이기 때문"
   ]
  },
  {
   "cell_type": "markdown",
   "id": "f69a14f1-022d-436b-bb09-ad830062afed",
   "metadata": {},
   "source": [
    "# 같은 제목(같은 영화인데 리메이크 한 것이라 가정) 영화면은 또 볼까?"
   ]
  },
  {
   "cell_type": "markdown",
   "id": "63246d99-bdb3-49b9-a693-d7b1d657a7ea",
   "metadata": {},
   "source": [
    "### 12 Angry Men 이 영화는 1957년 영화인데 1997년에 리메이크한듯(감독은 다르지만 작가가 같음)"
   ]
  },
  {
   "cell_type": "code",
   "execution_count": 103,
   "id": "e0f3e4b7-94ab-4bd7-8b9b-a3301f3ee1c4",
   "metadata": {},
   "outputs": [
    {
     "data": {
      "text/html": [
       "<div>\n",
       "<style scoped>\n",
       "    .dataframe tbody tr th:only-of-type {\n",
       "        vertical-align: middle;\n",
       "    }\n",
       "\n",
       "    .dataframe tbody tr th {\n",
       "        vertical-align: top;\n",
       "    }\n",
       "\n",
       "    .dataframe thead th {\n",
       "        text-align: right;\n",
       "    }\n",
       "</style>\n",
       "<table border=\"1\" class=\"dataframe\">\n",
       "  <thead>\n",
       "    <tr style=\"text-align: right;\">\n",
       "      <th></th>\n",
       "      <th>user</th>\n",
       "      <th>item</th>\n",
       "      <th>time</th>\n",
       "      <th>title</th>\n",
       "      <th>year</th>\n",
       "      <th>genre</th>\n",
       "      <th>director</th>\n",
       "      <th>writer</th>\n",
       "    </tr>\n",
       "  </thead>\n",
       "  <tbody>\n",
       "    <tr>\n",
       "      <th>2720766</th>\n",
       "      <td>58</td>\n",
       "      <td>1203</td>\n",
       "      <td>2006-04-03 10:25:22</td>\n",
       "      <td>12 Angry Men (1957)</td>\n",
       "      <td>1957</td>\n",
       "      <td>['Drama']</td>\n",
       "      <td>['nm0001486']</td>\n",
       "      <td>['nm0741627']</td>\n",
       "    </tr>\n",
       "  </tbody>\n",
       "</table>\n",
       "</div>"
      ],
      "text/plain": [
       "         user  item                 time                title  year  \\\n",
       "2720766    58  1203  2006-04-03 10:25:22  12 Angry Men (1957)  1957   \n",
       "\n",
       "             genre       director         writer  \n",
       "2720766  ['Drama']  ['nm0001486']  ['nm0741627']  "
      ]
     },
     "execution_count": 103,
     "metadata": {},
     "output_type": "execute_result"
    }
   ],
   "source": [
    "df[df.title=='12 Angry Men (1957)'].iloc[:1]"
   ]
  },
  {
   "cell_type": "code",
   "execution_count": 104,
   "id": "37d1ad1b-719f-499d-b999-ce8d6cd43770",
   "metadata": {},
   "outputs": [
    {
     "data": {
      "text/html": [
       "<div>\n",
       "<style scoped>\n",
       "    .dataframe tbody tr th:only-of-type {\n",
       "        vertical-align: middle;\n",
       "    }\n",
       "\n",
       "    .dataframe tbody tr th {\n",
       "        vertical-align: top;\n",
       "    }\n",
       "\n",
       "    .dataframe thead th {\n",
       "        text-align: right;\n",
       "    }\n",
       "</style>\n",
       "<table border=\"1\" class=\"dataframe\">\n",
       "  <thead>\n",
       "    <tr style=\"text-align: right;\">\n",
       "      <th></th>\n",
       "      <th>user</th>\n",
       "      <th>item</th>\n",
       "      <th>time</th>\n",
       "      <th>title</th>\n",
       "      <th>year</th>\n",
       "      <th>genre</th>\n",
       "      <th>director</th>\n",
       "      <th>writer</th>\n",
       "    </tr>\n",
       "  </thead>\n",
       "  <tbody>\n",
       "    <tr>\n",
       "      <th>5104741</th>\n",
       "      <td>2511</td>\n",
       "      <td>77846</td>\n",
       "      <td>2013-01-20 19:20:12</td>\n",
       "      <td>12 Angry Men (1997)</td>\n",
       "      <td>1997</td>\n",
       "      <td>['Crime', 'Drama']</td>\n",
       "      <td>['nm0001243']</td>\n",
       "      <td>['nm0741627']</td>\n",
       "    </tr>\n",
       "  </tbody>\n",
       "</table>\n",
       "</div>"
      ],
      "text/plain": [
       "         user   item                 time                title  year  \\\n",
       "5104741  2511  77846  2013-01-20 19:20:12  12 Angry Men (1997)  1997   \n",
       "\n",
       "                      genre       director         writer  \n",
       "5104741  ['Crime', 'Drama']  ['nm0001243']  ['nm0741627']  "
      ]
     },
     "execution_count": 104,
     "metadata": {},
     "output_type": "execute_result"
    }
   ],
   "source": [
    "df[df.title=='12 Angry Men (1997)'].iloc[:1]"
   ]
  },
  {
   "cell_type": "code",
   "execution_count": 95,
   "id": "c515d321-d222-47af-818b-2bf2f5025858",
   "metadata": {},
   "outputs": [
    {
     "data": {
      "text/plain": [
       "5283"
      ]
     },
     "execution_count": 95,
     "metadata": {},
     "output_type": "execute_result"
    }
   ],
   "source": [
    "# 1957년작 본 사람 수\n",
    "len(df[df.title=='12 Angry Men (1957)'])"
   ]
  },
  {
   "cell_type": "code",
   "execution_count": 96,
   "id": "a67de917-319d-40a3-9d26-85f22e99b63f",
   "metadata": {},
   "outputs": [
    {
     "data": {
      "text/plain": [
       "234"
      ]
     },
     "execution_count": 96,
     "metadata": {},
     "output_type": "execute_result"
    }
   ],
   "source": [
    "# 1997년 우리나라 성우 버전 영화 본 사람 수 \n",
    "len(df[df.title=='12 Angry Men (1997)'])"
   ]
  },
  {
   "cell_type": "code",
   "execution_count": 97,
   "id": "8e86dcdc-b57c-46f8-9069-66e645247fae",
   "metadata": {},
   "outputs": [
    {
     "data": {
      "text/plain": [
       "151"
      ]
     },
     "execution_count": 97,
     "metadata": {},
     "output_type": "execute_result"
    }
   ],
   "source": [
    "# 위 두 영화 다 본 사람 수 \n",
    "len(set(df[df.title=='12 Angry Men (1997)'].user).intersection(set(df[df.title=='12 Angry Men (1957)'].user)))"
   ]
  },
  {
   "cell_type": "markdown",
   "id": "322a077a-8fce-4c99-b08c-4abe4817e928",
   "metadata": {},
   "source": [
    "### 생각보다 영화 둘 다 본 사람 많다..(리메이크 영화 본 234 중 원작도 본 사람이 151명이나 됨) -> 영화 제목도 신경 써야 할듯"
   ]
  },
  {
   "cell_type": "markdown",
   "id": "9772c876-b4d4-4439-9403-f8df431e2559",
   "metadata": {},
   "source": [
    "# 배트맨 같은 시리즈는 어떨까"
   ]
  },
  {
   "cell_type": "code",
   "execution_count": 112,
   "id": "03f925af-e317-4596-aeb8-64101a2d1497",
   "metadata": {},
   "outputs": [
    {
     "name": "stdout",
     "output_type": "stream",
     "text": [
      "['Batman (1989)', 'Batman Forever (1995)', 'Batman Begins (2005)', 'Batman Returns (1992)', 'Batman/Superman Movie, The (1998)', 'Batman & Robin (1997)', 'Batman Beyond: Return of the Joker (2000)', 'Batman: The Dark Knight Returns, Part 2 (2013)', 'Batman: The Dark Knight Returns, Part 1 (2012)', 'Batman: Mask of the Phantasm (1993)', 'Batman: Gotham Knight (2008)', 'Batman: Under the Red Hood (2010)', 'Batman (1966)', 'Batman: Year One (2011)', 'Superman/Batman: Apocalypse (2010)']\n"
     ]
    }
   ],
   "source": [
    "batman = list(df[df.title.str.contains('Batman')].title.unique())\n",
    "print(batman)"
   ]
  },
  {
   "cell_type": "code",
   "execution_count": 129,
   "id": "fdd8ed80-05e6-4077-8c4e-df8afed81d17",
   "metadata": {},
   "outputs": [
    {
     "name": "stdout",
     "output_type": "stream",
     "text": [
      "Dark Knight, The (2008)\n",
      "Dark Knight Rises, The (2012)\n"
     ]
    }
   ],
   "source": [
    "# 이거 관련 진행하면서 dark knight 시리즈가 빠졌다는 것을 깨닫고 다크나이트 포함하고 다시 진행함\n",
    "for i in df[(df.title.str.contains('Dark Knight'))&(~df.title.str.contains('Batman'))].title.unique():\n",
    "    batman.append(i)\n",
    "    print(i)"
   ]
  },
  {
   "cell_type": "code",
   "execution_count": 130,
   "id": "86ed85e7-f617-44ad-98db-3ac24060a4bd",
   "metadata": {},
   "outputs": [],
   "source": [
    "batman_df = df[df.title.isin(batman)]"
   ]
  },
  {
   "cell_type": "code",
   "execution_count": 133,
   "id": "e8aa3264-fbfb-4d22-808b-9796dff18b44",
   "metadata": {},
   "outputs": [
    {
     "data": {
      "text/plain": [
       "0.6675382653061225"
      ]
     },
     "execution_count": 133,
     "metadata": {},
     "output_type": "execute_result"
    }
   ],
   "source": [
    "# 배트맨 관련 영화 본 사람 수 (전체 중 3분의 2 정도나 됨)\n",
    "batman_df.user.nunique() / df.user.nunique()"
   ]
  },
  {
   "cell_type": "code",
   "execution_count": 134,
   "id": "a683498f-04b1-493f-993a-5c0405560c9d",
   "metadata": {},
   "outputs": [
    {
     "data": {
      "text/plain": [
       "Batman Begins (2005)                              13405\n",
       "Dark Knight, The (2008)                           13060\n",
       "Batman (1989)                                      7130\n",
       "Dark Knight Rises, The (2012)                      3337\n",
       "Batman Returns (1992)                              2381\n",
       "Batman Forever (1995)                              2062\n",
       "Batman & Robin (1997)                               494\n",
       "Batman: Mask of the Phantasm (1993)                 386\n",
       "Batman (1966)                                       345\n",
       "Batman: Under the Red Hood (2010)                   263\n",
       "Batman: The Dark Knight Returns, Part 2 (2013)      260\n",
       "Batman: The Dark Knight Returns, Part 1 (2012)      237\n",
       "Batman: Gotham Knight (2008)                        230\n",
       "Batman Beyond: Return of the Joker (2000)           214\n",
       "Batman: Year One (2011)                             131\n",
       "Batman/Superman Movie, The (1998)                    55\n",
       "Superman/Batman: Apocalypse (2010)                   54\n",
       "Name: title, dtype: int64"
      ]
     },
     "execution_count": 134,
     "metadata": {},
     "output_type": "execute_result"
    }
   ],
   "source": [
    "# 배트맨 영화 시청 순위 (총 17개)\n",
    "batman_df.title.value_counts()"
   ]
  },
  {
   "cell_type": "code",
   "execution_count": 135,
   "id": "3239c6a0-f7f6-4b98-ab82-6c742ae36b36",
   "metadata": {},
   "outputs": [
    {
     "data": {
      "text/plain": [
       "1     8284\n",
       "2     6635\n",
       "3     3578\n",
       "4     1380\n",
       "5      594\n",
       "6      245\n",
       "7      109\n",
       "8       46\n",
       "11      19\n",
       "9       17\n",
       "10      16\n",
       "12       5\n",
       "13       4\n",
       "17       1\n",
       "14       1\n",
       "Name: item, dtype: int64"
      ]
     },
     "execution_count": 135,
     "metadata": {},
     "output_type": "execute_result"
    }
   ],
   "source": [
    "# 배트맨 영화들 여러개 본 사람들 (1개만 본 사람이 8284명, 17개 전부 다 챙겨서 본 사람이 1명 있음)\n",
    "batman_df.groupby('user').count().item.value_counts()"
   ]
  },
  {
   "cell_type": "markdown",
   "id": "d487341f-6802-48c6-afbf-3a0ad654483c",
   "metadata": {},
   "source": [
    "### 시리즈 영화의 경우 2개 이상 봤으면 충분히 다른 배트맨 시리즈 인기 영화도 추천할만할듯\n",
    "### (예를들어, 14개 챙겨본 사람은 나머지 3개 다 정답 10개 중 3개로 넣는게 좋을수도)"
   ]
  },
  {
   "cell_type": "markdown",
   "id": "450964de-eb04-4021-b20e-2560e19919e4",
   "metadata": {},
   "source": [
    "# 기타 시리즈 확인 (':'이 붙은 것들을 우선 시리즈물이라고 보기 - 좋은 방법은 아님)"
   ]
  },
  {
   "cell_type": "code",
   "execution_count": 18,
   "id": "1e6b44dc-1daf-47de-8b04-e5932184ae72",
   "metadata": {},
   "outputs": [],
   "source": [
    "# title들 unique한 list로\n",
    "titles = list(df.title.unique())\n",
    "# series는 dictionary로 (key는 series 이름, value에는 해당 시리즈 영화들)\n",
    "series_dict = {}\n",
    "for i in titles:\n",
    "    if ':' in i:\n",
    "        origin = i.split(':')[0]\n",
    "        if origin not in series_dict:\n",
    "            series_dict[origin] = [i]\n",
    "        else:\n",
    "            series_dict[origin].append(i)\n",
    "# 시리즈들 dataframe화            \n",
    "series_df = pd.DataFrame(list(series_dict.items()), columns=['series','titles'])            "
   ]
  },
  {
   "cell_type": "code",
   "execution_count": 27,
   "id": "f3606e71-e0b5-4fbb-9d7c-d214e6661573",
   "metadata": {},
   "outputs": [],
   "source": [
    "series_df['counts'] = series_df.apply(lambda x : len(x.titles),axis=1)"
   ]
  },
  {
   "cell_type": "code",
   "execution_count": 31,
   "id": "c392dc81-e537-4f5f-b3e4-a5400612ba7b",
   "metadata": {},
   "outputs": [
    {
     "data": {
      "text/html": [
       "<div>\n",
       "<style scoped>\n",
       "    .dataframe tbody tr th:only-of-type {\n",
       "        vertical-align: middle;\n",
       "    }\n",
       "\n",
       "    .dataframe tbody tr th {\n",
       "        vertical-align: top;\n",
       "    }\n",
       "\n",
       "    .dataframe thead th {\n",
       "        text-align: right;\n",
       "    }\n",
       "</style>\n",
       "<table border=\"1\" class=\"dataframe\">\n",
       "  <thead>\n",
       "    <tr style=\"text-align: right;\">\n",
       "      <th></th>\n",
       "      <th>series</th>\n",
       "      <th>titles</th>\n",
       "      <th>counts</th>\n",
       "    </tr>\n",
       "  </thead>\n",
       "  <tbody>\n",
       "    <tr>\n",
       "      <th>2</th>\n",
       "      <td>Ace Ventura</td>\n",
       "      <td>[Ace Ventura: Pet Detective (1994), Ace Ventur...</td>\n",
       "      <td>2</td>\n",
       "    </tr>\n",
       "    <tr>\n",
       "      <th>5</th>\n",
       "      <td>Star Wars</td>\n",
       "      <td>[Star Wars: Episode IV - A New Hope (1977), St...</td>\n",
       "      <td>7</td>\n",
       "    </tr>\n",
       "    <tr>\n",
       "      <th>8</th>\n",
       "      <td>X-Files</td>\n",
       "      <td>[X-Files: I Want to Believe, The (2008), X-Fil...</td>\n",
       "      <td>2</td>\n",
       "    </tr>\n",
       "    <tr>\n",
       "      <th>11</th>\n",
       "      <td>X-Men</td>\n",
       "      <td>[X-Men: The Last Stand (2006), X-Men: First Cl...</td>\n",
       "      <td>3</td>\n",
       "    </tr>\n",
       "    <tr>\n",
       "      <th>22</th>\n",
       "      <td>Lord of the Rings</td>\n",
       "      <td>[Lord of the Rings: The Fellowship of the Ring...</td>\n",
       "      <td>3</td>\n",
       "    </tr>\n",
       "    <tr>\n",
       "      <th>23</th>\n",
       "      <td>Mission</td>\n",
       "      <td>[Mission: Impossible (1996), Mission: Impossib...</td>\n",
       "      <td>4</td>\n",
       "    </tr>\n",
       "    <tr>\n",
       "      <th>24</th>\n",
       "      <td>Kill Bill</td>\n",
       "      <td>[Kill Bill: Vol. 1 (2003), Kill Bill: Vol. 2 (...</td>\n",
       "      <td>2</td>\n",
       "    </tr>\n",
       "    <tr>\n",
       "      <th>25</th>\n",
       "      <td>Pirates of the Caribbean</td>\n",
       "      <td>[Pirates of the Caribbean: The Curse of the Bl...</td>\n",
       "      <td>4</td>\n",
       "    </tr>\n",
       "    <tr>\n",
       "      <th>33</th>\n",
       "      <td>Chronicles of Narnia</td>\n",
       "      <td>[Chronicles of Narnia: The Lion, the Witch and...</td>\n",
       "      <td>3</td>\n",
       "    </tr>\n",
       "    <tr>\n",
       "      <th>37</th>\n",
       "      <td>Transformers</td>\n",
       "      <td>[Transformers: Revenge of the Fallen (2009), T...</td>\n",
       "      <td>4</td>\n",
       "    </tr>\n",
       "    <tr>\n",
       "      <th>38</th>\n",
       "      <td>Wallace &amp; Gromit</td>\n",
       "      <td>[Wallace &amp; Gromit: The Wrong Trousers (1993), ...</td>\n",
       "      <td>3</td>\n",
       "    </tr>\n",
       "    <tr>\n",
       "      <th>46</th>\n",
       "      <td>Godfather</td>\n",
       "      <td>[Godfather: Part II, The (1974), Godfather: Pa...</td>\n",
       "      <td>2</td>\n",
       "    </tr>\n",
       "    <tr>\n",
       "      <th>47</th>\n",
       "      <td>Austin Powers</td>\n",
       "      <td>[Austin Powers: The Spy Who Shagged Me (1999),...</td>\n",
       "      <td>2</td>\n",
       "    </tr>\n",
       "    <tr>\n",
       "      <th>48</th>\n",
       "      <td>Hobbit</td>\n",
       "      <td>[Hobbit: An Unexpected Journey, The (2012), Ho...</td>\n",
       "      <td>2</td>\n",
       "    </tr>\n",
       "    <tr>\n",
       "      <th>51</th>\n",
       "      <td>Harry Potter and the Deathly Hallows</td>\n",
       "      <td>[Harry Potter and the Deathly Hallows: Part 2 ...</td>\n",
       "      <td>2</td>\n",
       "    </tr>\n",
       "    <tr>\n",
       "      <th>53</th>\n",
       "      <td>3</td>\n",
       "      <td>[3:10 to Yuma (2007), 3:10 to Yuma (1957)]</td>\n",
       "      <td>2</td>\n",
       "    </tr>\n",
       "    <tr>\n",
       "      <th>56</th>\n",
       "      <td>Underworld</td>\n",
       "      <td>[Underworld: Evolution (2006), Underworld: Ris...</td>\n",
       "      <td>3</td>\n",
       "    </tr>\n",
       "    <tr>\n",
       "      <th>64</th>\n",
       "      <td>Captain America</td>\n",
       "      <td>[Captain America: The First Avenger (2011), Ca...</td>\n",
       "      <td>2</td>\n",
       "    </tr>\n",
       "    <tr>\n",
       "      <th>68</th>\n",
       "      <td>Resident Evil</td>\n",
       "      <td>[Resident Evil: Extinction (2007), Resident Ev...</td>\n",
       "      <td>4</td>\n",
       "    </tr>\n",
       "    <tr>\n",
       "      <th>70</th>\n",
       "      <td>Three Colors</td>\n",
       "      <td>[Three Colors: White (Trzy kolory: Bialy) (199...</td>\n",
       "      <td>3</td>\n",
       "    </tr>\n",
       "    <tr>\n",
       "      <th>77</th>\n",
       "      <td>Star Trek</td>\n",
       "      <td>[Star Trek: The Motion Picture (1979), Star Tr...</td>\n",
       "      <td>5</td>\n",
       "    </tr>\n",
       "    <tr>\n",
       "      <th>81</th>\n",
       "      <td>Mesrine</td>\n",
       "      <td>[Mesrine: Killer Instinct (L'instinct de mort)...</td>\n",
       "      <td>2</td>\n",
       "    </tr>\n",
       "    <tr>\n",
       "      <th>82</th>\n",
       "      <td>South Park</td>\n",
       "      <td>[South Park: Bigger, Longer and Uncut (1999), ...</td>\n",
       "      <td>2</td>\n",
       "    </tr>\n",
       "    <tr>\n",
       "      <th>92</th>\n",
       "      <td>Robin Hood</td>\n",
       "      <td>[Robin Hood: Prince of Thieves (1991), Robin H...</td>\n",
       "      <td>2</td>\n",
       "    </tr>\n",
       "    <tr>\n",
       "      <th>101</th>\n",
       "      <td>Louis C.K.</td>\n",
       "      <td>[Louis C.K.: Shameless (2007), Louis C.K.: Liv...</td>\n",
       "      <td>5</td>\n",
       "    </tr>\n",
       "    <tr>\n",
       "      <th>134</th>\n",
       "      <td>Stargate</td>\n",
       "      <td>[Stargate: Continuum (2008), Stargate: The Ark...</td>\n",
       "      <td>2</td>\n",
       "    </tr>\n",
       "    <tr>\n",
       "      <th>135</th>\n",
       "      <td>Neon Genesis Evangelion</td>\n",
       "      <td>[Neon Genesis Evangelion: Death &amp; Rebirth (Shi...</td>\n",
       "      <td>2</td>\n",
       "    </tr>\n",
       "    <tr>\n",
       "      <th>136</th>\n",
       "      <td>Daria</td>\n",
       "      <td>[Daria: Is It College Yet? (2002), Daria: Is I...</td>\n",
       "      <td>2</td>\n",
       "    </tr>\n",
       "    <tr>\n",
       "      <th>137</th>\n",
       "      <td>Futurama</td>\n",
       "      <td>[Futurama: Bender's Big Score (2007), Futurama...</td>\n",
       "      <td>4</td>\n",
       "    </tr>\n",
       "    <tr>\n",
       "      <th>144</th>\n",
       "      <td>Batman</td>\n",
       "      <td>[Batman: The Dark Knight Returns, Part 2 (2013...</td>\n",
       "      <td>6</td>\n",
       "    </tr>\n",
       "    <tr>\n",
       "      <th>160</th>\n",
       "      <td>Red Riding</td>\n",
       "      <td>[Red Riding: 1974 (2009), Red Riding: 1980 (20...</td>\n",
       "      <td>3</td>\n",
       "    </tr>\n",
       "    <tr>\n",
       "      <th>168</th>\n",
       "      <td>Lone Wolf and Cub</td>\n",
       "      <td>[Lone Wolf and Cub: Baby Cart to Hades (Kozure...</td>\n",
       "      <td>4</td>\n",
       "    </tr>\n",
       "    <tr>\n",
       "      <th>173</th>\n",
       "      <td>Battlestar Galactica</td>\n",
       "      <td>[Battlestar Galactica: Razor (2007), Battlesta...</td>\n",
       "      <td>2</td>\n",
       "    </tr>\n",
       "    <tr>\n",
       "      <th>174</th>\n",
       "      <td>Zeitgeist</td>\n",
       "      <td>[Zeitgeist: The Movie (2007), Zeitgeist: Adden...</td>\n",
       "      <td>3</td>\n",
       "    </tr>\n",
       "    <tr>\n",
       "      <th>191</th>\n",
       "      <td>Babylon 5</td>\n",
       "      <td>[Babylon 5: In the Beginning (1998), Babylon 5...</td>\n",
       "      <td>7</td>\n",
       "    </tr>\n",
       "    <tr>\n",
       "      <th>200</th>\n",
       "      <td>Che</td>\n",
       "      <td>[Che: Part One (2008), Che: Part Two (2008)]</td>\n",
       "      <td>2</td>\n",
       "    </tr>\n",
       "    <tr>\n",
       "      <th>203</th>\n",
       "      <td>Garfield</td>\n",
       "      <td>[Garfield: The Movie (2004), Garfield: A Tail ...</td>\n",
       "      <td>2</td>\n",
       "    </tr>\n",
       "    <tr>\n",
       "      <th>210</th>\n",
       "      <td>American Pie Presents</td>\n",
       "      <td>[American Pie Presents: Band Camp (American Pi...</td>\n",
       "      <td>2</td>\n",
       "    </tr>\n",
       "    <tr>\n",
       "      <th>233</th>\n",
       "      <td>Evangelion</td>\n",
       "      <td>[Evangelion: 1.0 You Are (Not) Alone (Evangeri...</td>\n",
       "      <td>2</td>\n",
       "    </tr>\n",
       "    <tr>\n",
       "      <th>285</th>\n",
       "      <td>Deuce Bigalow</td>\n",
       "      <td>[Deuce Bigalow: Male Gigolo (1999), Deuce Biga...</td>\n",
       "      <td>2</td>\n",
       "    </tr>\n",
       "    <tr>\n",
       "      <th>298</th>\n",
       "      <td>Twilight Saga</td>\n",
       "      <td>[Twilight Saga: Eclipse, The (2010), Twilight ...</td>\n",
       "      <td>4</td>\n",
       "    </tr>\n",
       "    <tr>\n",
       "      <th>351</th>\n",
       "      <td>Nymphomaniac</td>\n",
       "      <td>[Nymphomaniac: Volume I (2013), Nymphomaniac: ...</td>\n",
       "      <td>2</td>\n",
       "    </tr>\n",
       "    <tr>\n",
       "      <th>354</th>\n",
       "      <td>Tales from the Crypt Presents</td>\n",
       "      <td>[Tales from the Crypt Presents: Demon Knight (...</td>\n",
       "      <td>2</td>\n",
       "    </tr>\n",
       "    <tr>\n",
       "      <th>382</th>\n",
       "      <td>Librarian</td>\n",
       "      <td>[Librarian: Quest for the Spear, The (2004), L...</td>\n",
       "      <td>2</td>\n",
       "    </tr>\n",
       "    <tr>\n",
       "      <th>386</th>\n",
       "      <td>Trailer Park Boys</td>\n",
       "      <td>[Trailer Park Boys: Countdown to Liquor Day (2...</td>\n",
       "      <td>2</td>\n",
       "    </tr>\n",
       "  </tbody>\n",
       "</table>\n",
       "</div>"
      ],
      "text/plain": [
       "                                   series  \\\n",
       "2                             Ace Ventura   \n",
       "5                               Star Wars   \n",
       "8                                 X-Files   \n",
       "11                                  X-Men   \n",
       "22                      Lord of the Rings   \n",
       "23                                Mission   \n",
       "24                              Kill Bill   \n",
       "25               Pirates of the Caribbean   \n",
       "33                   Chronicles of Narnia   \n",
       "37                           Transformers   \n",
       "38                       Wallace & Gromit   \n",
       "46                              Godfather   \n",
       "47                          Austin Powers   \n",
       "48                                 Hobbit   \n",
       "51   Harry Potter and the Deathly Hallows   \n",
       "53                                      3   \n",
       "56                             Underworld   \n",
       "64                        Captain America   \n",
       "68                          Resident Evil   \n",
       "70                           Three Colors   \n",
       "77                              Star Trek   \n",
       "81                                Mesrine   \n",
       "82                             South Park   \n",
       "92                             Robin Hood   \n",
       "101                            Louis C.K.   \n",
       "134                              Stargate   \n",
       "135               Neon Genesis Evangelion   \n",
       "136                                 Daria   \n",
       "137                              Futurama   \n",
       "144                                Batman   \n",
       "160                            Red Riding   \n",
       "168                     Lone Wolf and Cub   \n",
       "173                  Battlestar Galactica   \n",
       "174                             Zeitgeist   \n",
       "191                             Babylon 5   \n",
       "200                                   Che   \n",
       "203                              Garfield   \n",
       "210                 American Pie Presents   \n",
       "233                            Evangelion   \n",
       "285                         Deuce Bigalow   \n",
       "298                         Twilight Saga   \n",
       "351                          Nymphomaniac   \n",
       "354         Tales from the Crypt Presents   \n",
       "382                             Librarian   \n",
       "386                     Trailer Park Boys   \n",
       "\n",
       "                                                titles  counts  \n",
       "2    [Ace Ventura: Pet Detective (1994), Ace Ventur...       2  \n",
       "5    [Star Wars: Episode IV - A New Hope (1977), St...       7  \n",
       "8    [X-Files: I Want to Believe, The (2008), X-Fil...       2  \n",
       "11   [X-Men: The Last Stand (2006), X-Men: First Cl...       3  \n",
       "22   [Lord of the Rings: The Fellowship of the Ring...       3  \n",
       "23   [Mission: Impossible (1996), Mission: Impossib...       4  \n",
       "24   [Kill Bill: Vol. 1 (2003), Kill Bill: Vol. 2 (...       2  \n",
       "25   [Pirates of the Caribbean: The Curse of the Bl...       4  \n",
       "33   [Chronicles of Narnia: The Lion, the Witch and...       3  \n",
       "37   [Transformers: Revenge of the Fallen (2009), T...       4  \n",
       "38   [Wallace & Gromit: The Wrong Trousers (1993), ...       3  \n",
       "46   [Godfather: Part II, The (1974), Godfather: Pa...       2  \n",
       "47   [Austin Powers: The Spy Who Shagged Me (1999),...       2  \n",
       "48   [Hobbit: An Unexpected Journey, The (2012), Ho...       2  \n",
       "51   [Harry Potter and the Deathly Hallows: Part 2 ...       2  \n",
       "53          [3:10 to Yuma (2007), 3:10 to Yuma (1957)]       2  \n",
       "56   [Underworld: Evolution (2006), Underworld: Ris...       3  \n",
       "64   [Captain America: The First Avenger (2011), Ca...       2  \n",
       "68   [Resident Evil: Extinction (2007), Resident Ev...       4  \n",
       "70   [Three Colors: White (Trzy kolory: Bialy) (199...       3  \n",
       "77   [Star Trek: The Motion Picture (1979), Star Tr...       5  \n",
       "81   [Mesrine: Killer Instinct (L'instinct de mort)...       2  \n",
       "82   [South Park: Bigger, Longer and Uncut (1999), ...       2  \n",
       "92   [Robin Hood: Prince of Thieves (1991), Robin H...       2  \n",
       "101  [Louis C.K.: Shameless (2007), Louis C.K.: Liv...       5  \n",
       "134  [Stargate: Continuum (2008), Stargate: The Ark...       2  \n",
       "135  [Neon Genesis Evangelion: Death & Rebirth (Shi...       2  \n",
       "136  [Daria: Is It College Yet? (2002), Daria: Is I...       2  \n",
       "137  [Futurama: Bender's Big Score (2007), Futurama...       4  \n",
       "144  [Batman: The Dark Knight Returns, Part 2 (2013...       6  \n",
       "160  [Red Riding: 1974 (2009), Red Riding: 1980 (20...       3  \n",
       "168  [Lone Wolf and Cub: Baby Cart to Hades (Kozure...       4  \n",
       "173  [Battlestar Galactica: Razor (2007), Battlesta...       2  \n",
       "174  [Zeitgeist: The Movie (2007), Zeitgeist: Adden...       3  \n",
       "191  [Babylon 5: In the Beginning (1998), Babylon 5...       7  \n",
       "200       [Che: Part One (2008), Che: Part Two (2008)]       2  \n",
       "203  [Garfield: The Movie (2004), Garfield: A Tail ...       2  \n",
       "210  [American Pie Presents: Band Camp (American Pi...       2  \n",
       "233  [Evangelion: 1.0 You Are (Not) Alone (Evangeri...       2  \n",
       "285  [Deuce Bigalow: Male Gigolo (1999), Deuce Biga...       2  \n",
       "298  [Twilight Saga: Eclipse, The (2010), Twilight ...       4  \n",
       "351  [Nymphomaniac: Volume I (2013), Nymphomaniac: ...       2  \n",
       "354  [Tales from the Crypt Presents: Demon Knight (...       2  \n",
       "382  [Librarian: Quest for the Spear, The (2004), L...       2  \n",
       "386  [Trailer Park Boys: Countdown to Liquor Day (2...       2  "
      ]
     },
     "execution_count": 31,
     "metadata": {},
     "output_type": "execute_result"
    }
   ],
   "source": [
    "series_df[series_df.counts != 1] # 하나만 있는 영화는 시리즈가 아니므로 제외 (중간에 이상한게 껴있기도 하고 ex. '3', 몇개 없기도 함 ex. harry potter)"
   ]
  },
  {
   "cell_type": "code",
   "execution_count": 36,
   "id": "2571e683-a372-42bb-85c4-7d6337156272",
   "metadata": {},
   "outputs": [
    {
     "data": {
      "text/html": [
       "<div>\n",
       "<style scoped>\n",
       "    .dataframe tbody tr th:only-of-type {\n",
       "        vertical-align: middle;\n",
       "    }\n",
       "\n",
       "    .dataframe tbody tr th {\n",
       "        vertical-align: top;\n",
       "    }\n",
       "\n",
       "    .dataframe thead th {\n",
       "        text-align: right;\n",
       "    }\n",
       "</style>\n",
       "<table border=\"1\" class=\"dataframe\">\n",
       "  <thead>\n",
       "    <tr style=\"text-align: right;\">\n",
       "      <th></th>\n",
       "      <th>user</th>\n",
       "      <th>item</th>\n",
       "      <th>time</th>\n",
       "      <th>title</th>\n",
       "      <th>year</th>\n",
       "      <th>genre</th>\n",
       "      <th>director</th>\n",
       "      <th>writer</th>\n",
       "    </tr>\n",
       "  </thead>\n",
       "  <tbody>\n",
       "    <tr>\n",
       "      <th>1134506</th>\n",
       "      <td>11</td>\n",
       "      <td>4896</td>\n",
       "      <td>2009-01-02 01:19:59</td>\n",
       "      <td>Harry Potter and the Sorcerer's Stone (a.k.a. ...</td>\n",
       "      <td>2001</td>\n",
       "      <td>['Adventure', 'Children', 'Fantasy']</td>\n",
       "      <td>['nm0001060']</td>\n",
       "      <td>['nm0460141', 'nm0746830']</td>\n",
       "    </tr>\n",
       "    <tr>\n",
       "      <th>689589</th>\n",
       "      <td>11</td>\n",
       "      <td>5816</td>\n",
       "      <td>2009-01-01 23:49:43</td>\n",
       "      <td>Harry Potter and the Chamber of Secrets (2002)</td>\n",
       "      <td>2002</td>\n",
       "      <td>['Adventure', 'Fantasy']</td>\n",
       "      <td>['nm0001060']</td>\n",
       "      <td>['nm0460141', 'nm0746830']</td>\n",
       "    </tr>\n",
       "    <tr>\n",
       "      <th>1115492</th>\n",
       "      <td>11</td>\n",
       "      <td>8368</td>\n",
       "      <td>2009-01-02 01:19:40</td>\n",
       "      <td>Harry Potter and the Prisoner of Azkaban (2004)</td>\n",
       "      <td>2004</td>\n",
       "      <td>['Adventure', 'Fantasy']</td>\n",
       "      <td>['nm0190859']</td>\n",
       "      <td>['nm0460141', 'nm0746830']</td>\n",
       "    </tr>\n",
       "    <tr>\n",
       "      <th>2125554</th>\n",
       "      <td>31</td>\n",
       "      <td>40815</td>\n",
       "      <td>2015-02-23 23:36:22</td>\n",
       "      <td>Harry Potter and the Goblet of Fire (2005)</td>\n",
       "      <td>2005</td>\n",
       "      <td>['Adventure', 'Fantasy', 'Thriller']</td>\n",
       "      <td>['nm0001565']</td>\n",
       "      <td>['nm0460141', 'nm0746830']</td>\n",
       "    </tr>\n",
       "    <tr>\n",
       "      <th>741388</th>\n",
       "      <td>11</td>\n",
       "      <td>54001</td>\n",
       "      <td>2009-01-01 23:53:17</td>\n",
       "      <td>Harry Potter and the Order of the Phoenix (2007)</td>\n",
       "      <td>2007</td>\n",
       "      <td>['Adventure', 'Drama', 'Fantasy']</td>\n",
       "      <td>['nm0946734']</td>\n",
       "      <td>['nm0746830', 'nm0325533']</td>\n",
       "    </tr>\n",
       "    <tr>\n",
       "      <th>2144521</th>\n",
       "      <td>31</td>\n",
       "      <td>69844</td>\n",
       "      <td>2015-02-23 23:39:08</td>\n",
       "      <td>Harry Potter and the Half-Blood Prince (2009)</td>\n",
       "      <td>2009</td>\n",
       "      <td>['Adventure', 'Fantasy', 'Mystery', 'Romance']</td>\n",
       "      <td>['nm0946734']</td>\n",
       "      <td>['nm0460141', 'nm0746830']</td>\n",
       "    </tr>\n",
       "    <tr>\n",
       "      <th>2110780</th>\n",
       "      <td>31</td>\n",
       "      <td>81834</td>\n",
       "      <td>2015-02-23 23:28:05</td>\n",
       "      <td>Harry Potter and the Deathly Hallows: Part 1 (...</td>\n",
       "      <td>2010</td>\n",
       "      <td>['Action', 'Adventure', 'Fantasy']</td>\n",
       "      <td>['nm0946734']</td>\n",
       "      <td>['nm0460141', 'nm0746830']</td>\n",
       "    </tr>\n",
       "    <tr>\n",
       "      <th>2107669</th>\n",
       "      <td>31</td>\n",
       "      <td>88125</td>\n",
       "      <td>2015-02-23 23:27:55</td>\n",
       "      <td>Harry Potter and the Deathly Hallows: Part 2 (...</td>\n",
       "      <td>2011</td>\n",
       "      <td>['Action', 'Adventure', 'Drama', 'Fantasy', 'M...</td>\n",
       "      <td>['nm0946734']</td>\n",
       "      <td>['nm0460141', 'nm0746830']</td>\n",
       "    </tr>\n",
       "  </tbody>\n",
       "</table>\n",
       "</div>"
      ],
      "text/plain": [
       "         user   item                 time  \\\n",
       "1134506    11   4896  2009-01-02 01:19:59   \n",
       "689589     11   5816  2009-01-01 23:49:43   \n",
       "1115492    11   8368  2009-01-02 01:19:40   \n",
       "2125554    31  40815  2015-02-23 23:36:22   \n",
       "741388     11  54001  2009-01-01 23:53:17   \n",
       "2144521    31  69844  2015-02-23 23:39:08   \n",
       "2110780    31  81834  2015-02-23 23:28:05   \n",
       "2107669    31  88125  2015-02-23 23:27:55   \n",
       "\n",
       "                                                     title  year  \\\n",
       "1134506  Harry Potter and the Sorcerer's Stone (a.k.a. ...  2001   \n",
       "689589      Harry Potter and the Chamber of Secrets (2002)  2002   \n",
       "1115492    Harry Potter and the Prisoner of Azkaban (2004)  2004   \n",
       "2125554         Harry Potter and the Goblet of Fire (2005)  2005   \n",
       "741388    Harry Potter and the Order of the Phoenix (2007)  2007   \n",
       "2144521      Harry Potter and the Half-Blood Prince (2009)  2009   \n",
       "2110780  Harry Potter and the Deathly Hallows: Part 1 (...  2010   \n",
       "2107669  Harry Potter and the Deathly Hallows: Part 2 (...  2011   \n",
       "\n",
       "                                                     genre       director  \\\n",
       "1134506               ['Adventure', 'Children', 'Fantasy']  ['nm0001060']   \n",
       "689589                            ['Adventure', 'Fantasy']  ['nm0001060']   \n",
       "1115492                           ['Adventure', 'Fantasy']  ['nm0190859']   \n",
       "2125554               ['Adventure', 'Fantasy', 'Thriller']  ['nm0001565']   \n",
       "741388                   ['Adventure', 'Drama', 'Fantasy']  ['nm0946734']   \n",
       "2144521     ['Adventure', 'Fantasy', 'Mystery', 'Romance']  ['nm0946734']   \n",
       "2110780                 ['Action', 'Adventure', 'Fantasy']  ['nm0946734']   \n",
       "2107669  ['Action', 'Adventure', 'Drama', 'Fantasy', 'M...  ['nm0946734']   \n",
       "\n",
       "                             writer  \n",
       "1134506  ['nm0460141', 'nm0746830']  \n",
       "689589   ['nm0460141', 'nm0746830']  \n",
       "1115492  ['nm0460141', 'nm0746830']  \n",
       "2125554  ['nm0460141', 'nm0746830']  \n",
       "741388   ['nm0746830', 'nm0325533']  \n",
       "2144521  ['nm0460141', 'nm0746830']  \n",
       "2110780  ['nm0460141', 'nm0746830']  \n",
       "2107669  ['nm0460141', 'nm0746830']  "
      ]
     },
     "execution_count": 36,
     "metadata": {},
     "output_type": "execute_result"
    }
   ],
   "source": [
    "# 위 방법으론 아래 해리포터 시리즈를 잡지 못함\n",
    "df[df.title.str.contains('Harry Potter')].drop_duplicates('title').sort_values('year')"
   ]
  },
  {
   "cell_type": "markdown",
   "id": "65531f00-7cb2-4ced-b633-efa1de2f1438",
   "metadata": {},
   "source": [
    "# 해리포터로 한번 더 실험"
   ]
  },
  {
   "cell_type": "code",
   "execution_count": 39,
   "id": "5f59f90a-05d6-490a-bbdc-a86bbe167a51",
   "metadata": {},
   "outputs": [],
   "source": [
    "hp = list(df[df.title.str.contains('Harry Potter')].title.unique())"
   ]
  },
  {
   "cell_type": "code",
   "execution_count": 40,
   "id": "c182cffd-fa56-4c1b-895d-58291abc7cff",
   "metadata": {},
   "outputs": [],
   "source": [
    "hp_df = df[df.title.isin(hp)]"
   ]
  },
  {
   "cell_type": "code",
   "execution_count": 41,
   "id": "a01a5896-56bb-42c5-834a-34f0daf841d5",
   "metadata": {},
   "outputs": [
    {
     "data": {
      "text/plain": [
       "0.37222576530612245"
      ]
     },
     "execution_count": 41,
     "metadata": {},
     "output_type": "execute_result"
    }
   ],
   "source": [
    "# 해리포터 시리즈 영화 본 사람 수 (전체 중 3분의 1 정도 됨)\n",
    "hp_df.user.nunique() / df.user.nunique()"
   ]
  },
  {
   "cell_type": "code",
   "execution_count": 42,
   "id": "f0c95af5-fb3a-4e3d-b569-e88c24687142",
   "metadata": {},
   "outputs": [
    {
     "data": {
      "text/plain": [
       "Harry Potter and the Prisoner of Azkaban (2004)                                                   7050\n",
       "Harry Potter and the Goblet of Fire (2005)                                                        6494\n",
       "Harry Potter and the Sorcerer's Stone (a.k.a. Harry Potter and the Philosopher's Stone) (2001)    6431\n",
       "Harry Potter and the Chamber of Secrets (2002)                                                    5706\n",
       "Harry Potter and the Order of the Phoenix (2007)                                                  3942\n",
       "Harry Potter and the Half-Blood Prince (2009)                                                     2801\n",
       "Harry Potter and the Deathly Hallows: Part 2 (2011)                                               2710\n",
       "Harry Potter and the Deathly Hallows: Part 1 (2010)                                               2609\n",
       "Name: title, dtype: int64"
      ]
     },
     "execution_count": 42,
     "metadata": {},
     "output_type": "execute_result"
    }
   ],
   "source": [
    "# 해리포터 영화 시청 순위 (총 8개)\n",
    "hp_df.title.value_counts()"
   ]
  },
  {
   "cell_type": "markdown",
   "id": "e61314eb-7fd4-457d-bd90-ab3123f23c0d",
   "metadata": {},
   "source": [
    "### 여기서 보면 해리포터 시리즈 중 뒷 시리즈일 수록 순위가 떨어짐, 즉 만약 시리즈 추천 시 먼저 나온 영화를 우선하여 추천하는 방법이 좋을듯? (물론 시리즈 중 유독 순위가 높은 영화는 그거 먼저 추천해야겠지만.. ex) 배트맨 시리즈 중 다크나이트)"
   ]
  },
  {
   "cell_type": "code",
   "execution_count": 43,
   "id": "13bdb2b2-c3b6-42db-89b5-5e9a7ab1165f",
   "metadata": {},
   "outputs": [
    {
     "data": {
      "text/plain": [
       "1    3347\n",
       "2    2027\n",
       "3    1726\n",
       "4    1592\n",
       "5    1104\n",
       "8     764\n",
       "6     627\n",
       "7     486\n",
       "Name: item, dtype: int64"
      ]
     },
     "execution_count": 43,
     "metadata": {},
     "output_type": "execute_result"
    }
   ],
   "source": [
    "# 해리포터 영화들 여러개 본 사람들 (1개만 본 사람이 3347명, 8개 전부 다 챙겨서 본 사람이 764명 있음)\n",
    "hp_df.groupby('user').count().item.value_counts()"
   ]
  },
  {
   "cell_type": "code",
   "execution_count": 55,
   "id": "d7ff5ad9-1063-4a8b-92b8-45f7346c9058",
   "metadata": {},
   "outputs": [
    {
     "data": {
      "text/plain": [
       "Twilight Saga: New Moon, The (2009)                  279\n",
       "Twilight Saga: Eclipse, The (2010)                   237\n",
       "Twilight Saga: Breaking Dawn - Part 1, The (2011)    112\n",
       "Twilight Saga: Breaking Dawn - Part 2, The (2012)     99\n",
       "Name: title, dtype: int64"
      ]
     },
     "execution_count": 55,
     "metadata": {},
     "output_type": "execute_result"
    }
   ],
   "source": [
    "# 트와일라잇 역시 먼저 나온 영화일 수록 순위가 높음\n",
    "df[df.title.str.contains('Twilight Saga')].title.value_counts()"
   ]
  },
  {
   "cell_type": "code",
   "execution_count": 54,
   "id": "59d68fc8-97b4-4d83-a149-99382c32d83c",
   "metadata": {},
   "outputs": [
    {
     "data": {
      "text/plain": [
       "640"
      ]
     },
     "execution_count": 54,
     "metadata": {},
     "output_type": "execute_result"
    }
   ],
   "source": [
    "# 역시나 트와일라잇 1편을 제일 많이 봤다\n",
    "df[df.title == 'Twilight (2008)'].user.nunique()"
   ]
  },
  {
   "cell_type": "markdown",
   "id": "0c37b93a-9661-4b15-9269-0ee4af20f672",
   "metadata": {},
   "source": [
    "# 해리포터 시리즈 중 7개를 본 사람은 그렇다면 어떤 1개를 안 본 걸까?"
   ]
  },
  {
   "cell_type": "code",
   "execution_count": 60,
   "id": "0443bf1f-71ef-4fed-9e24-7324da221582",
   "metadata": {},
   "outputs": [],
   "source": [
    "hp_item_df = hp_df.groupby('user').count()[['item']]"
   ]
  },
  {
   "cell_type": "code",
   "execution_count": 66,
   "id": "a11c4a6c-63e5-4baf-9ff6-543c5eb58c54",
   "metadata": {},
   "outputs": [],
   "source": [
    "# 해리포터 7개 본 user들\n",
    "hp_7_user = hp_item_df[hp_item_df.item==7].index"
   ]
  },
  {
   "cell_type": "code",
   "execution_count": 76,
   "id": "3a92fb5d-5778-4ecc-a8fd-bd6696eb79bf",
   "metadata": {},
   "outputs": [],
   "source": [
    "hp_7_df = hp_df[hp_df.user.isin(hp_7_user)]"
   ]
  },
  {
   "cell_type": "code",
   "execution_count": 85,
   "id": "8f4f6e83-25b8-47a4-930e-c0c86f4e2036",
   "metadata": {},
   "outputs": [],
   "source": [
    "no_hp = collections.defaultdict(int)\n",
    "for i in hp_7_user:\n",
    "    one_hp = set(hp) - set(hp_7_df[hp_7_df.user==i].title)\n",
    "    no_hp[str(one_hp)] += 1"
   ]
  },
  {
   "cell_type": "code",
   "execution_count": 88,
   "id": "a003bada-8afb-4a79-83f9-ab3e55f69cb5",
   "metadata": {},
   "outputs": [
    {
     "data": {
      "text/plain": [
       "[(\"{'Harry Potter and the Deathly Hallows: Part 2 (2011)'}\", 159),\n",
       " ('{\"Harry Potter and the Sorcerer\\'s Stone (a.k.a. Harry Potter and the Philosopher\\'s Stone) (2001)\"}',\n",
       "  60),\n",
       " (\"{'Harry Potter and the Deathly Hallows: Part 1 (2010)'}\", 56),\n",
       " (\"{'Harry Potter and the Chamber of Secrets (2002)'}\", 55),\n",
       " (\"{'Harry Potter and the Half-Blood Prince (2009)'}\", 47),\n",
       " (\"{'Harry Potter and the Order of the Phoenix (2007)'}\", 47),\n",
       " (\"{'Harry Potter and the Prisoner of Azkaban (2004)'}\", 36),\n",
       " (\"{'Harry Potter and the Goblet of Fire (2005)'}\", 26)]"
      ]
     },
     "execution_count": 88,
     "metadata": {},
     "output_type": "execute_result"
    }
   ],
   "source": [
    "# 7개의 해리포터 영화 본 사람 중 안본 영화들 순위 \n",
    "sorted(no_hp.items(), key = lambda item: item[1], reverse = True)"
   ]
  },
  {
   "cell_type": "markdown",
   "id": "a8781680-03a9-4c06-b94e-92f37b30761d",
   "metadata": {},
   "source": [
    "### 위에 결과를 보면 해리포터 마지막 편인 7-2편을 안본 사람이 가장 많다. 이건 납득이 됨.\n",
    "### 하지만, 7개의 해리포터 영화 봤고, 마지막 편까지 본사람이 중간에 한편만 안봤다는 건 납득이 잘 되지 않음\n",
    "### 즉, 시리즈 물에서 다수의 작품을 봤음에도 중간에 한두편 정도를 안본 경우는 -> 해당 영화를 영화 추천 10개 중 포함시키는 것이 좋을 것 같다 (정답일 확률이 높음) ex. 해리포터 작품 8개 중 아즈카반의 죄수(3편)만 안봤을 경우(아즈카반의 죄수는 위에 보면 해리포터 시리즈 중 가장 인기 많았음) 아즈카반의 죄수가 정답 중 하나일 확률이 매우매우 높음"
   ]
  },
  {
   "cell_type": "markdown",
   "id": "ef9699a9-f46f-4178-a5c9-1849e31e90be",
   "metadata": {},
   "source": [
    "# 해리포터 작가"
   ]
  },
  {
   "cell_type": "code",
   "execution_count": 94,
   "id": "0f97594c-c44a-4687-b3d5-c42b6c84368c",
   "metadata": {},
   "outputs": [
    {
     "data": {
      "text/plain": [
       "array(['Harry Potter and the Chamber of Secrets (2002)',\n",
       "       'Harry Potter and the Prisoner of Azkaban (2004)',\n",
       "       \"Harry Potter and the Sorcerer's Stone (a.k.a. Harry Potter and the Philosopher's Stone) (2001)\",\n",
       "       'Harry Potter and the Deathly Hallows: Part 2 (2011)',\n",
       "       'Harry Potter and the Deathly Hallows: Part 1 (2010)',\n",
       "       'Harry Potter and the Goblet of Fire (2005)',\n",
       "       'Harry Potter and the Half-Blood Prince (2009)',\n",
       "       'Wonder Boys (2000)', 'Amazing Spider-Man, The (2012)',\n",
       "       'Fabulous Baker Boys, The (1989)'], dtype=object)"
      ]
     },
     "execution_count": 94,
     "metadata": {},
     "output_type": "execute_result"
    }
   ],
   "source": [
    "df[~df.writer.isnull()][df[~df.writer.isnull()].writer.str.contains('nm0460141')].title.unique()"
   ]
  },
  {
   "cell_type": "code",
   "execution_count": 95,
   "id": "abf827bc-7794-4ab6-bd78-694f0fc4034a",
   "metadata": {},
   "outputs": [
    {
     "data": {
      "text/plain": [
       "array(['Harry Potter and the Chamber of Secrets (2002)',\n",
       "       'Harry Potter and the Order of the Phoenix (2007)',\n",
       "       'Harry Potter and the Prisoner of Azkaban (2004)',\n",
       "       \"Harry Potter and the Sorcerer's Stone (a.k.a. Harry Potter and the Philosopher's Stone) (2001)\",\n",
       "       'Harry Potter and the Deathly Hallows: Part 2 (2011)',\n",
       "       'Harry Potter and the Deathly Hallows: Part 1 (2010)',\n",
       "       'Harry Potter and the Goblet of Fire (2005)',\n",
       "       'Harry Potter and the Half-Blood Prince (2009)'], dtype=object)"
      ]
     },
     "execution_count": 95,
     "metadata": {},
     "output_type": "execute_result"
    }
   ],
   "source": [
    "df[~df.writer.isnull()][df[~df.writer.isnull()].writer.str.contains('nm0746830')].title.unique()"
   ]
  },
  {
   "cell_type": "code",
   "execution_count": 109,
   "id": "be37df56-6941-492c-b051-900bb508db96",
   "metadata": {},
   "outputs": [
    {
     "name": "stdout",
     "output_type": "stream",
     "text": [
      "['nm0460141', 'nm0149290']\n",
      "['nm0498278', 'nm0765091', 'nm0460141', 'nm0888743', 'nm0228492']\n",
      "['nm0460141']\n"
     ]
    }
   ],
   "source": [
    "print(df[df.title=='Wonder Boys (2000)']['writer'].iloc[0])\n",
    "print(df[df.title=='Amazing Spider-Man, The (2012)']['writer'].iloc[0])\n",
    "print(df[df.title=='Fabulous Baker Boys, The (1989)']['writer'].iloc[0])"
   ]
  },
  {
   "cell_type": "markdown",
   "id": "1821742f-2835-4df4-880c-a0e7bbe52795",
   "metadata": {},
   "source": [
    "### nm0460141는 스티브 클로브스(해리포터 각본가), nm0746830는 jk롤링(해리포터 작가)  \n",
    "### 스티브 클로브스의 작품수가 더 많아서 앞에 정렬되어 있음, 즉 단순히 작품 수 많은 director나 writer를 대표 한명으로 쓰기엔 어려움이 있음\n",
    "### 공동으로 들어가 있는 수가 많을수록 뒤에 정렬하는 방식이나, 다른 방식으로 다시 정렬해야 할듯 (정렬 자체를 신경 안쓰거나)"
   ]
  },
  {
   "cell_type": "code",
   "execution_count": null,
   "id": "1645c68d-eb72-47e3-baba-561f746dcfaa",
   "metadata": {},
   "outputs": [],
   "source": []
  }
 ],
 "metadata": {
  "kernelspec": {
   "display_name": "Python 3",
   "language": "python",
   "name": "python3"
  },
  "language_info": {
   "codemirror_mode": {
    "name": "ipython",
    "version": 3
   },
   "file_extension": ".py",
   "mimetype": "text/x-python",
   "name": "python",
   "nbconvert_exporter": "python",
   "pygments_lexer": "ipython3",
   "version": "3.8.5"
  }
 },
 "nbformat": 4,
 "nbformat_minor": 5
}
